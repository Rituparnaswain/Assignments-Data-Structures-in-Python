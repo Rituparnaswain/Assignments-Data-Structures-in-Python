{
  "nbformat": 4,
  "nbformat_minor": 0,
  "metadata": {
    "colab": {
      "provenance": [],
      "authorship_tag": "ABX9TyNxsgT71D5HD7KPfwPP3Ij6",
      "include_colab_link": true
    },
    "kernelspec": {
      "name": "python3",
      "display_name": "Python 3"
    },
    "language_info": {
      "name": "python"
    }
  },
  "cells": [
    {
      "cell_type": "markdown",
      "metadata": {
        "id": "view-in-github",
        "colab_type": "text"
      },
      "source": [
        "<a href=\"https://colab.research.google.com/github/Rituparnaswain/Assignments-Data-Structures-in-Python/blob/main/Assignment_Numpy.ipynb\" target=\"_parent\"><img src=\"https://colab.research.google.com/assets/colab-badge.svg\" alt=\"Open In Colab\"/></a>"
      ]
    },
    {
      "cell_type": "code",
      "execution_count": null,
      "metadata": {
        "id": "9cqZ59MWPULl"
      },
      "outputs": [],
      "source": [
        "#1. Create a NumPy array 'arr' of integers from 0 to 5 and print its data type"
      ]
    },
    {
      "cell_type": "code",
      "source": [
        "import numpy as np\n",
        "\n",
        "arr = np.array([0, 1, 2, 3, 4, 5])\n",
        "print(arr.dtype)\n"
      ],
      "metadata": {
        "colab": {
          "base_uri": "https://localhost:8080/"
        },
        "id": "-ROaidIBQD57",
        "outputId": "122ab7b3-a46f-4a2f-95c8-9f5b380edd40"
      },
      "execution_count": null,
      "outputs": [
        {
          "output_type": "stream",
          "name": "stdout",
          "text": [
            "int64\n"
          ]
        }
      ]
    },
    {
      "cell_type": "code",
      "source": [
        "#2. Given a NumPy array 'arr', check if its data type is float64\n",
        "\n",
        "\n",
        "arr = np.array([1.5, 2.6, 3.7])"
      ],
      "metadata": {
        "id": "1c_edqSiQP5q"
      },
      "execution_count": null,
      "outputs": []
    },
    {
      "cell_type": "code",
      "source": [
        "print(arr.dtype)"
      ],
      "metadata": {
        "colab": {
          "base_uri": "https://localhost:8080/"
        },
        "id": "krkxroLAQecT",
        "outputId": "0d088944-dbd9-4c24-8969-1d59f876145f"
      },
      "execution_count": null,
      "outputs": [
        {
          "output_type": "stream",
          "name": "stdout",
          "text": [
            "float64\n"
          ]
        }
      ]
    },
    {
      "cell_type": "code",
      "source": [
        "#3. Create a NumPy array 'arr' with a data type of complex128 containing three complex numbers."
      ],
      "metadata": {
        "id": "gaHK84EZQmmV"
      },
      "execution_count": null,
      "outputs": []
    },
    {
      "cell_type": "code",
      "source": [
        "import numpy as np\n",
        "arr = np.array([1 + 2j, 3 + 4j, 5 + 6j], dtype=np.complex128)\n",
        "print(arr)"
      ],
      "metadata": {
        "colab": {
          "base_uri": "https://localhost:8080/"
        },
        "id": "UO-67h3aQsif",
        "outputId": "2d2590e6-ab6f-4e9c-a151-9c9c0469bcc3"
      },
      "execution_count": null,
      "outputs": [
        {
          "output_type": "stream",
          "name": "stdout",
          "text": [
            "[1.+2.j 3.+4.j 5.+6.j]\n"
          ]
        }
      ]
    },
    {
      "cell_type": "code",
      "source": [
        "#4. Convert an existing NumPy array 'arr' of integers to float32 data type."
      ],
      "metadata": {
        "id": "E1l4rYoZQ5jL"
      },
      "execution_count": null,
      "outputs": []
    },
    {
      "cell_type": "code",
      "source": [
        "import numpy as np\n",
        "\n",
        "# Assuming arr is your existing NumPy array of integers\n",
        "arr = np.array([1, 2, 3, 4, 5])\n",
        "\n",
        "# Converting to float32 data type\n",
        "arr_float32 = arr.astype(np.float32)\n",
        "\n",
        "# Printing the converted array and its data type\n",
        "print(arr_float32)\n",
        "print(arr_float32.dtype)\n"
      ],
      "metadata": {
        "colab": {
          "base_uri": "https://localhost:8080/"
        },
        "id": "v4Sg066YQ_JX",
        "outputId": "89a70480-8c7e-4b9d-f31a-5b484056bc39"
      },
      "execution_count": null,
      "outputs": [
        {
          "output_type": "stream",
          "name": "stdout",
          "text": [
            "[1. 2. 3. 4. 5.]\n",
            "float32\n"
          ]
        }
      ]
    },
    {
      "cell_type": "code",
      "source": [
        "#5. Given a NumPy array 'arr' with float64 data type, convert it to float32 to reduce decimal precision."
      ],
      "metadata": {
        "id": "0MXXZTSyRQt4"
      },
      "execution_count": null,
      "outputs": []
    },
    {
      "cell_type": "code",
      "source": [
        "import numpy as np\n",
        "\n",
        "# Assuming arr is your existing NumPy array with float64 data type\n",
        "arr = np.array([0.123456789, 1.23456789, 12.3456789])\n",
        "\n",
        "# Converting to float32 data type\n",
        "arr_float32 = arr.astype(np.float32)\n",
        "\n",
        "# Printing the converted array and its data type\n",
        "print(arr_float32)\n",
        "print(arr_float32.dtype)"
      ],
      "metadata": {
        "colab": {
          "base_uri": "https://localhost:8080/"
        },
        "id": "BpwEBjPPRU0j",
        "outputId": "321d0825-1042-424b-d783-4c51fb2a65ce"
      },
      "execution_count": null,
      "outputs": [
        {
          "output_type": "stream",
          "name": "stdout",
          "text": [
            "[ 0.12345679  1.2345679  12.345679  ]\n",
            "float32\n"
          ]
        }
      ]
    },
    {
      "cell_type": "code",
      "source": [
        "#6. Write a function array_attributes that takes a NumPy array as input and returns its shape, size, and datatype."
      ],
      "metadata": {
        "id": "ApBsFZfIReBM"
      },
      "execution_count": null,
      "outputs": []
    },
    {
      "cell_type": "code",
      "source": [
        "import numpy as np\n",
        "\n",
        "def array_attributes(arr):\n",
        "\n",
        "    shape = arr.shape\n",
        "    size = arr.size\n",
        "    dtype = arr.dtype\n",
        "    return shape, size, dtype\n",
        "\n",
        "arr = np.array([[1, 2, 3], [4, 5, 6]])\n",
        "shape, size, dtype = array_attributes(arr)\n",
        "print(\"Shape:\", shape)\n",
        "print(\"Size:\", size)\n",
        "print(\"Data Type:\", dtype)"
      ],
      "metadata": {
        "colab": {
          "base_uri": "https://localhost:8080/"
        },
        "id": "PBklnMhQRvkD",
        "outputId": "2a2870b0-e9c0-4cab-cd6f-aad3ec745605"
      },
      "execution_count": null,
      "outputs": [
        {
          "output_type": "stream",
          "name": "stdout",
          "text": [
            "Shape: (2, 3)\n",
            "Size: 6\n",
            "Data Type: int64\n"
          ]
        }
      ]
    },
    {
      "cell_type": "code",
      "source": [
        "# 7. Create a function array_dimension that takes a NumPy array as input and\n",
        "# returns its dimensionality."
      ],
      "metadata": {
        "id": "N5S6gQTMSjcb"
      },
      "execution_count": null,
      "outputs": []
    },
    {
      "cell_type": "code",
      "source": [
        "import numpy as np\n",
        "\n",
        "def array_dimension(arr):\n",
        "\n",
        "    return arr.ndim\n",
        "\n",
        "\n",
        "arr1 = np.array([[1, 2, 3], [4, 5, 6]])\n",
        "arr2 = np.array([1, 2, 3, 4, 5])\n",
        "arr3 = np.array(42)\n",
        "\n",
        "print(\"Dimensionality of arr1:\", array_dimension(arr1))\n",
        "print(\"Dimensionality of arr2:\", array_dimension(arr2))\n",
        "print(\"Dimensionality of arr3:\", array_dimension(arr3))"
      ],
      "metadata": {
        "colab": {
          "base_uri": "https://localhost:8080/"
        },
        "id": "jfKKQCIKS81G",
        "outputId": "77e26944-c7a7-4ae9-8757-09d3ab262738"
      },
      "execution_count": null,
      "outputs": [
        {
          "output_type": "stream",
          "name": "stdout",
          "text": [
            "Dimensionality of arr1: 2\n",
            "Dimensionality of arr2: 1\n",
            "Dimensionality of arr3: 0\n"
          ]
        }
      ]
    },
    {
      "cell_type": "code",
      "source": [
        "#8. Design a function item_size_info that takes a NumPy array as input and returns the item size and the total size in bytes"
      ],
      "metadata": {
        "id": "4BmrK3IUTEHV"
      },
      "execution_count": null,
      "outputs": []
    },
    {
      "cell_type": "code",
      "source": [
        "import numpy as np\n",
        "\n",
        "def item_size_info(arr):\n",
        "\n",
        "    item_size = arr.itemsize\n",
        "    total_size = arr.size * item_size\n",
        "    return item_size, total_size\n",
        "\n",
        "arr = np.array([[1, 2, 3], [4, 5, 6]])\n",
        "item_size, total_size = item_size_info(arr)\n",
        "print(\"Item Size:\", item_size, \"bytes\")\n",
        "print(\"Total Size:\", total_size, \"bytes\")"
      ],
      "metadata": {
        "colab": {
          "base_uri": "https://localhost:8080/"
        },
        "id": "34Gkm20kTNaR",
        "outputId": "b6c91e9a-079d-4a47-ac8c-7345450c88bf"
      },
      "execution_count": null,
      "outputs": [
        {
          "output_type": "stream",
          "name": "stdout",
          "text": [
            "Item Size: 8 bytes\n",
            "Total Size: 48 bytes\n"
          ]
        }
      ]
    },
    {
      "cell_type": "code",
      "source": [
        "#9. Create a function array_strides that takes a NumPy array as input and returns the strides of the array."
      ],
      "metadata": {
        "id": "G5FvBekJTcML"
      },
      "execution_count": null,
      "outputs": []
    },
    {
      "cell_type": "code",
      "source": [
        "import numpy as np\n",
        "\n",
        "def array_strides(arr):\n",
        "    \"\"\"\n",
        "    Takes a NumPy array as input and returns its strides.\n",
        "\n",
        "    Parameters:\n",
        "        arr (numpy.ndarray): Input NumPy array.\n",
        "\n",
        "    Returns:\n",
        "        tuple: A tuple containing the strides of the array.\n",
        "    \"\"\"\n",
        "    return arr.strides\n",
        "arr = np.array([[1, 2, 3], [4, 5, 6]])\n",
        "strides = array_strides(arr)\n",
        "print(\"Strides:\", strides)"
      ],
      "metadata": {
        "colab": {
          "base_uri": "https://localhost:8080/"
        },
        "id": "cIrAiUJYWCxn",
        "outputId": "317a744d-16ab-4373-a371-a743f60a94a1"
      },
      "execution_count": null,
      "outputs": [
        {
          "output_type": "stream",
          "name": "stdout",
          "text": [
            "Strides: (24, 8)\n"
          ]
        }
      ]
    },
    {
      "cell_type": "code",
      "source": [
        "#10. Design a function shape_stride_relationship that takes a NumPy array as input and returns the shape and strides of the array."
      ],
      "metadata": {
        "id": "XHP1sD8MWLEf"
      },
      "execution_count": null,
      "outputs": []
    },
    {
      "cell_type": "code",
      "source": [
        "import numpy as np\n",
        "\n",
        "def shape_stride_relationship(arr):\n",
        "    \"\"\"\n",
        "    Takes a NumPy array as input and returns its shape and strides.\n",
        "\n",
        "    Parameters:\n",
        "        arr (numpy.ndarray): Input NumPy array.\n",
        "\n",
        "    Returns:\n",
        "        tuple: A tuple containing the shape and strides of the array.\n",
        "    \"\"\"\n",
        "    return arr.shape, arr.strides\n",
        "arr = np.array([[1, 2, 3], [4, 5, 6]])\n",
        "shape, strides = shape_stride_relationship(arr)\n",
        "print(\"Shape:\", shape)\n",
        "print(\"Strides:\", strides)"
      ],
      "metadata": {
        "colab": {
          "base_uri": "https://localhost:8080/"
        },
        "id": "DoqOjw3yYxMS",
        "outputId": "528288c1-de31-466c-ce81-444279eaad57"
      },
      "execution_count": null,
      "outputs": [
        {
          "output_type": "stream",
          "name": "stdout",
          "text": [
            "Shape: (2, 3)\n",
            "Strides: (24, 8)\n"
          ]
        }
      ]
    },
    {
      "cell_type": "code",
      "source": [
        "# 11. Create a function `create_zeros_array` that takes an integer `n` as input and returns a NumPy array of zeros with `n` elements"
      ],
      "metadata": {
        "id": "gXcIb2lXZXMP"
      },
      "execution_count": null,
      "outputs": []
    },
    {
      "cell_type": "code",
      "source": [
        "import numpy as np\n",
        "\n",
        "def create_zeros_array(n):\n",
        "    \"\"\"\n",
        "    Creates a NumPy array of zeros with n elements.\n",
        "\n",
        "    Parameters:\n",
        "        n (int): Number of elements in the array.\n",
        "\n",
        "    Returns:\n",
        "        numpy.ndarray: NumPy array of zeros with n elements.\n",
        "    \"\"\"\n",
        "    return np.zeros(n)\n",
        "n = 5\n",
        "zeros_arr = create_zeros_array(n)\n",
        "print(zeros_arr)"
      ],
      "metadata": {
        "colab": {
          "base_uri": "https://localhost:8080/"
        },
        "id": "DUBFhfzianGO",
        "outputId": "0d1180bc-5efe-487d-bbb1-7417b377cecd"
      },
      "execution_count": null,
      "outputs": [
        {
          "output_type": "stream",
          "name": "stdout",
          "text": [
            "[0. 0. 0. 0. 0.]\n"
          ]
        }
      ]
    },
    {
      "cell_type": "code",
      "source": [
        "#12. Write a function `create_ones_matrix` that takes integers `rows` and `cols` as inputs and generates a 2D NumPy array filled with ones of size `rows x cols`."
      ],
      "metadata": {
        "id": "yil-5sO2bCdi"
      },
      "execution_count": null,
      "outputs": []
    },
    {
      "cell_type": "code",
      "source": [
        "import numpy as np\n",
        "\n",
        "def create_ones_matrix(rows, cols):\n",
        "   return np.ones((rows, cols))\n",
        "rows = 3\n",
        "cols = 4\n",
        "ones_matrix = create_ones_matrix(rows, cols)\n",
        "print(ones_matrix)"
      ],
      "metadata": {
        "colab": {
          "base_uri": "https://localhost:8080/"
        },
        "id": "pQGlFeHf08XR",
        "outputId": "8cc4fd12-6e29-4e97-a2c1-866ddcff858d"
      },
      "execution_count": null,
      "outputs": [
        {
          "output_type": "stream",
          "name": "stdout",
          "text": [
            "[[1. 1. 1. 1.]\n",
            " [1. 1. 1. 1.]\n",
            " [1. 1. 1. 1.]]\n"
          ]
        }
      ]
    },
    {
      "cell_type": "code",
      "source": [
        "#13. Write a function `generate_range_array` that takes three integers start, stop, and step as arguments and creates a NumPy array with a range starting from `start`, ending at stop (exclusive), and with the specified step`."
      ],
      "metadata": {
        "id": "NvfXuvGN0-NP"
      },
      "execution_count": null,
      "outputs": []
    },
    {
      "cell_type": "code",
      "source": [
        "import numpy as np\n",
        "\n",
        "def generate_range_array(start, stop, step):\n",
        "    \"\"\"\n",
        "    Creates a NumPy array with a range starting from start, ending at stop (exclusive),\n",
        "    and with the specified step.\n",
        "\n",
        "    Parameters:\n",
        "        start (int): Starting value of the range.\n",
        "        stop (int): Ending value of the range (exclusive).\n",
        "        step (int): Step size between consecutive elements.\n",
        "\n",
        "    Returns:\n",
        "        numpy.ndarray: NumPy array containing the generated range.\n",
        "    \"\"\"\n",
        "    return np.arange(start, stop, step)\n",
        "\n",
        "start = 1\n",
        "stop = 10\n",
        "step = 2\n",
        "range_array = generate_range_array(start, stop, step)\n",
        "print(range_array)\n"
      ],
      "metadata": {
        "colab": {
          "base_uri": "https://localhost:8080/"
        },
        "id": "TYO_9pex1Wv2",
        "outputId": "dd9de760-101c-47a2-b558-b99f76517190"
      },
      "execution_count": null,
      "outputs": [
        {
          "output_type": "stream",
          "name": "stdout",
          "text": [
            "[1 3 5 7 9]\n"
          ]
        }
      ]
    },
    {
      "cell_type": "code",
      "source": [
        "#14. Design a function `generate_linear_space` that takes two floats `start`, `stop`, and an integer `num` as\n",
        "#arguments and generates a NumPy array with num equally spaced values between `start` and `stop`(inclusive)."
      ],
      "metadata": {
        "id": "3IIzWLLJ1jlX"
      },
      "execution_count": null,
      "outputs": []
    },
    {
      "cell_type": "code",
      "source": [
        "import numpy as np\n",
        "\n",
        "def generate_linear_space(start, stop, num):\n",
        "    \"\"\"\n",
        "    Generate num equally spaced values between start and stop (inclusive).\n",
        "\n",
        "    Parameters:\n",
        "    start (float): The start of the linear space.\n",
        "    stop (float): The end of the linear space.\n",
        "    num (int): The number of values to generate.\n",
        "\n",
        "    Returns:\n",
        "    numpy.ndarray: Array of equally spaced values.\n",
        "    \"\"\"\n",
        "    return np.linspace(start, stop, num)\n",
        "\n",
        "start = 0\n",
        "stop = 10\n",
        "num = 5\n",
        "result = generate_linear_space(start, stop, num)\n",
        "print(result)\n"
      ],
      "metadata": {
        "colab": {
          "base_uri": "https://localhost:8080/"
        },
        "id": "b538KRov1ui-",
        "outputId": "3edc8508-5edb-4ad9-f589-0b883820aff6"
      },
      "execution_count": null,
      "outputs": [
        {
          "output_type": "stream",
          "name": "stdout",
          "text": [
            "[ 0.   2.5  5.   7.5 10. ]\n"
          ]
        }
      ]
    },
    {
      "cell_type": "code",
      "source": [
        "#15. Create a function `create_identity_matrix` that takes an integer `n` as input and generates a square\n",
        "#identity matrix of size `n x n` using `numpy.eye`."
      ],
      "metadata": {
        "id": "A79-Vivn2-Kg"
      },
      "execution_count": null,
      "outputs": []
    },
    {
      "cell_type": "code",
      "source": [
        "import numpy as np\n",
        "\n",
        "def create_identity_matrix(n):\n",
        "    \"\"\"\n",
        "    Create a square identity matrix of size n x n.\n",
        "\n",
        "    Parameters:\n",
        "    n (int): Size of the identity matrix.\n",
        "\n",
        "    Returns:\n",
        "    numpy.ndarray: Identity matrix of size n x n.\n",
        "    \"\"\"\n",
        "    return np.eye(n)\n",
        "\n",
        "n = 3\n",
        "identity_matrix = create_identity_matrix(n)\n",
        "print(identity_matrix)\n",
        "\n"
      ],
      "metadata": {
        "colab": {
          "base_uri": "https://localhost:8080/"
        },
        "id": "yGDSlpG93Z6c",
        "outputId": "e522d669-5f9c-47a7-e44e-7bbcf12e4738"
      },
      "execution_count": null,
      "outputs": [
        {
          "output_type": "stream",
          "name": "stdout",
          "text": [
            "[[1. 0. 0.]\n",
            " [0. 1. 0.]\n",
            " [0. 0. 1.]]\n"
          ]
        }
      ]
    },
    {
      "cell_type": "code",
      "source": [
        "#16. Write a function that takes a Python list and converts it into a NumPy array.\n"
      ],
      "metadata": {
        "id": "hnthQErn3fEE"
      },
      "execution_count": null,
      "outputs": []
    },
    {
      "cell_type": "code",
      "source": [
        "l =[1,2,3,4]\n",
        "arr = np.array(l)\n",
        "arr"
      ],
      "metadata": {
        "colab": {
          "base_uri": "https://localhost:8080/"
        },
        "id": "bmiSzL0Y62IM",
        "outputId": "0c2dfa39-7b0f-4c7a-fcf5-fa89cf4fc3c7"
      },
      "execution_count": null,
      "outputs": [
        {
          "output_type": "execute_result",
          "data": {
            "text/plain": [
              "array([1, 2, 3, 4])"
            ]
          },
          "metadata": {},
          "execution_count": 11
        }
      ]
    },
    {
      "cell_type": "code",
      "source": [
        "import numpy as np\n",
        "\n",
        "def list_to_numpy_array(py_list):\n",
        "    return np.array(py_list)\n",
        "\n",
        "python_list = [1, 2, 3, 4, 5]\n",
        "numpy_array = list_to_numpy_array(python_list)\n",
        "print(numpy_array)\n"
      ],
      "metadata": {
        "colab": {
          "base_uri": "https://localhost:8080/"
        },
        "id": "r3KPIJrE4P3I",
        "outputId": "a2a6e622-72c9-45a2-ae8c-73a9073b44ea"
      },
      "execution_count": null,
      "outputs": [
        {
          "output_type": "stream",
          "name": "stdout",
          "text": [
            "[1 2 3 4 5]\n"
          ]
        }
      ]
    },
    {
      "cell_type": "code",
      "source": [
        "#17. Create a NumPy array and demonstrate the use of `numpy.view` to create a new array object with thesame data."
      ],
      "metadata": {
        "id": "2AT4t5Sl4RTI"
      },
      "execution_count": null,
      "outputs": []
    },
    {
      "cell_type": "code",
      "source": [
        "import numpy as np\n",
        "\n",
        "# Create a NumPy array\n",
        "original_array = np.array([1, 2, 3, 4, 5])\n",
        "\n",
        "# Create a view of the original array\n",
        "view_array = original_array.view()\n",
        "\n",
        "# Modify the view array\n",
        "view_array[0] = 10\n",
        "\n",
        "# Print both arrays\n",
        "print(\"Original array:\", original_array)\n",
        "print(\"View array:\", view_array)\n"
      ],
      "metadata": {
        "colab": {
          "base_uri": "https://localhost:8080/"
        },
        "id": "sqPqN7Cc4oUU",
        "outputId": "5feebb93-8831-4371-b953-5e2a1670d1cd"
      },
      "execution_count": null,
      "outputs": [
        {
          "output_type": "stream",
          "name": "stdout",
          "text": [
            "Original array: [10  2  3  4  5]\n",
            "View array: [10  2  3  4  5]\n"
          ]
        }
      ]
    },
    {
      "cell_type": "code",
      "source": [
        "#18. Write a function that takes two NumPy arrays and concatenates them along a specified axis."
      ],
      "metadata": {
        "id": "94wosS0g6mYB"
      },
      "execution_count": null,
      "outputs": []
    },
    {
      "cell_type": "code",
      "source": [
        "import numpy as np\n",
        "\n",
        "def concatenate_arrays(array1, array2, axis=0):\n",
        "    \"\"\"\n",
        "    Concatenate two NumPy arrays along a specified axis.\n",
        "\n",
        "    Parameters:\n",
        "    array1 (numpy.ndarray): First NumPy array to concatenate.\n",
        "    array2 (numpy.ndarray): Second NumPy array to concatenate.\n",
        "    axis (int, optional): Axis along which arrays will be concatenated. Default is 0.\n",
        "\n",
        "    Returns:\n",
        "    numpy.ndarray: Concatenated array.\n",
        "    \"\"\"\n",
        "    return np.concatenate((array1, array2), axis=axis)\n",
        "\n",
        "# Example usage:\n",
        "array1 = np.array([[1, 2], [3, 4]])\n",
        "array2 = np.array([[5, 6]])\n",
        "concatenated_array = concatenate_arrays(array1, array2, axis=0)\n",
        "print(\"Concatenated array along axis 0:\")\n",
        "print(concatenated_array)\n",
        "\n",
        "# Concatenating along a different axis\n",
        "concatenated_array_axis_1 = concatenate_arrays(array1, array2.T, axis=1)\n",
        "print(\"\\nConcatenated array along axis 1:\")\n",
        "print(concatenated_array_axis_1)\n"
      ],
      "metadata": {
        "colab": {
          "base_uri": "https://localhost:8080/"
        },
        "id": "23U3Y-938B6U",
        "outputId": "fd359f07-5f91-4f83-9d5f-94b4a22d3469"
      },
      "execution_count": null,
      "outputs": [
        {
          "output_type": "stream",
          "name": "stdout",
          "text": [
            "Concatenated array along axis 0:\n",
            "[[1 2]\n",
            " [3 4]\n",
            " [5 6]]\n",
            "\n",
            "Concatenated array along axis 1:\n",
            "[[1 2 5]\n",
            " [3 4 6]]\n"
          ]
        }
      ]
    },
    {
      "cell_type": "code",
      "source": [
        "#19. Create two NumPy arrays with different shapes and concatenate them horizontally using `numpy.concatenate"
      ],
      "metadata": {
        "id": "YOz0Azu-8Ns_"
      },
      "execution_count": null,
      "outputs": []
    },
    {
      "cell_type": "code",
      "source": [
        "import numpy as np\n",
        "\n",
        "# Create two NumPy arrays with different shapes\n",
        "array1 = np.array([[1, 2, 3],\n",
        "                   [4, 5, 6]])\n",
        "array2 = np.array([[7, 8],\n",
        "                   [9, 10]])\n",
        "\n",
        "# Concatenate them horizontally\n",
        "concatenated_array = np.concatenate((array1, array2), axis=1)\n",
        "\n",
        "print(\"Array 1:\")\n",
        "print(array1)\n",
        "print(\"\\nArray 2:\")\n",
        "print(array2)\n",
        "print(\"\\nConcatenated horizontally:\")\n",
        "print(concatenated_array)\n"
      ],
      "metadata": {
        "colab": {
          "base_uri": "https://localhost:8080/"
        },
        "id": "9nrGQqrn8w4N",
        "outputId": "1efc6051-e7e0-4fa4-ff1a-57192c853943"
      },
      "execution_count": null,
      "outputs": [
        {
          "output_type": "stream",
          "name": "stdout",
          "text": [
            "Array 1:\n",
            "[[1 2 3]\n",
            " [4 5 6]]\n",
            "\n",
            "Array 2:\n",
            "[[ 7  8]\n",
            " [ 9 10]]\n",
            "\n",
            "Concatenated horizontally:\n",
            "[[ 1  2  3  7  8]\n",
            " [ 4  5  6  9 10]]\n"
          ]
        }
      ]
    },
    {
      "cell_type": "code",
      "source": [
        "#20. Write a function that vertically stacks multiple NumPy arrays given as a list."
      ],
      "metadata": {
        "id": "Rgn6WiZS8xst"
      },
      "execution_count": null,
      "outputs": []
    },
    {
      "cell_type": "code",
      "source": [
        "import numpy as np\n",
        "\n",
        "def stack_arrays_vertically(arrays):\n",
        "    \"\"\"\n",
        "    Vertically stack multiple NumPy arrays given as a list.\n",
        "\n",
        "    Parameters:\n",
        "    arrays (list): List of NumPy arrays to vertically stack.\n",
        "\n",
        "    Returns:\n",
        "    numpy.ndarray: Vertically stacked array.\n",
        "    \"\"\"\n",
        "    return np.vstack(arrays)\n",
        "\n",
        "array1 = np.array([[1, 2, 3],\n",
        "                   [4, 5, 6]])\n",
        "array2 = np.array([[7, 8, 9],\n",
        "                   [10, 11, 12]])\n",
        "array3 = np.array([[13, 14, 15],\n",
        "                   [16, 17, 18]])\n",
        "\n",
        "stacked_array = stack_arrays_vertically([array1, array2, array3])\n",
        "print(\"Vertically stacked array:\")\n",
        "print(stacked_array)\n"
      ],
      "metadata": {
        "colab": {
          "base_uri": "https://localhost:8080/"
        },
        "id": "FSGP7JAn8_nT",
        "outputId": "ff6192d9-8094-4481-c1ba-c32ef3ed2eb3"
      },
      "execution_count": null,
      "outputs": [
        {
          "output_type": "stream",
          "name": "stdout",
          "text": [
            "Vertically stacked array:\n",
            "[[ 1  2  3]\n",
            " [ 4  5  6]\n",
            " [ 7  8  9]\n",
            " [10 11 12]\n",
            " [13 14 15]\n",
            " [16 17 18]]\n"
          ]
        }
      ]
    },
    {
      "cell_type": "code",
      "source": [
        "#21. Write a Python function using NumPy to create an array of integers within a specified range (inclusive) with a given step size"
      ],
      "metadata": {
        "id": "BMHsFP2O9KFc"
      },
      "execution_count": null,
      "outputs": []
    },
    {
      "cell_type": "code",
      "source": [
        "import numpy as np\n",
        "\n",
        "def create_integer_array(start, stop, step):\n",
        "    \"\"\"\n",
        "    Create an array of integers within a specified range (inclusive) with a given step size.\n",
        "\n",
        "    Parameters:\n",
        "    start (int): Start of the range (inclusive).\n",
        "    stop (int): End of the range (inclusive).\n",
        "    step (int): Step size between integers.\n",
        "\n",
        "    Returns:\n",
        "    numpy.ndarray: Array of integers within the specified range with the given step size.\n",
        "    \"\"\"\n",
        "    return np.arange(start, stop + 1, step, dtype=int)\n",
        "\n",
        "start = 1\n",
        "stop = 10\n",
        "step = 2\n",
        "result = create_integer_array(start, stop, step)\n",
        "print(result)\n"
      ],
      "metadata": {
        "colab": {
          "base_uri": "https://localhost:8080/"
        },
        "id": "ald1xmeT9Vls",
        "outputId": "ef2fdc5b-01db-451c-b70c-ef553ac55959"
      },
      "execution_count": null,
      "outputs": [
        {
          "output_type": "stream",
          "name": "stdout",
          "text": [
            "[1 3 5 7 9]\n"
          ]
        }
      ]
    },
    {
      "cell_type": "code",
      "source": [
        "#22. Write a Python function using NumPy to generate an array of 10 equally spaced values between 0 and 1 (inclusive)."
      ],
      "metadata": {
        "id": "LaMZVgju9s_t"
      },
      "execution_count": null,
      "outputs": []
    },
    {
      "cell_type": "code",
      "source": [
        "import numpy as np\n",
        "\n",
        "def generate_equally_spaced_values():\n",
        "    \"\"\"\n",
        "    Generate an array of 10 equally spaced values between 0 and 1 (inclusive).\n",
        "\n",
        "    Returns:\n",
        "    numpy.ndarray: Array of 10 equally spaced values between 0 and 1.\n",
        "    \"\"\"\n",
        "    return np.linspace(0, 1, 10)\n",
        "\n",
        "result = generate_equally_spaced_values()\n",
        "print(result)\n"
      ],
      "metadata": {
        "colab": {
          "base_uri": "https://localhost:8080/"
        },
        "id": "DYDheBsy-hkK",
        "outputId": "8e7ae4dd-0322-41db-c812-83e0619e95cb"
      },
      "execution_count": null,
      "outputs": [
        {
          "output_type": "stream",
          "name": "stdout",
          "text": [
            "[0.         0.11111111 0.22222222 0.33333333 0.44444444 0.55555556\n",
            " 0.66666667 0.77777778 0.88888889 1.        ]\n"
          ]
        }
      ]
    },
    {
      "cell_type": "code",
      "source": [
        "#23. Write a Python function using NumPy to create an array of 5 logarithmically spaced values between 1 and 1000 (inclusive).\n"
      ],
      "metadata": {
        "id": "-ZA-I4Os-v09"
      },
      "execution_count": null,
      "outputs": []
    },
    {
      "cell_type": "code",
      "source": [
        "import numpy as np\n",
        "\n",
        "def generate_logarithmically_spaced_values():\n",
        "    \"\"\"\n",
        "    Generate an array of 5 logarithmically spaced values between 1 and 1000 (inclusive).\n",
        "\n",
        "    Returns:\n",
        "    numpy.ndarray: Array of 5 logarithmically spaced values between 1 and 1000.\n",
        "    \"\"\"\n",
        "    return np.logspace(start=0, stop=3, num=5)\n",
        "\n",
        "# Example usage:\n",
        "result = generate_logarithmically_spaced_values()\n",
        "print(result)\n"
      ],
      "metadata": {
        "colab": {
          "base_uri": "https://localhost:8080/"
        },
        "id": "0CQ_IY2G_Py9",
        "outputId": "e7a8463d-a94c-48e6-c1bf-30fe0c3a5dca"
      },
      "execution_count": null,
      "outputs": [
        {
          "output_type": "stream",
          "name": "stdout",
          "text": [
            "[   1.            5.62341325   31.6227766   177.827941   1000.        ]\n"
          ]
        }
      ]
    },
    {
      "cell_type": "code",
      "source": [
        "# 24. Create a Pandas DataFrame using a NumPy array that contains 5 rows and 3 columns, where the values are random integers between 1 and 100."
      ],
      "metadata": {
        "id": "qOfGnoJXAe8-"
      },
      "execution_count": null,
      "outputs": []
    },
    {
      "cell_type": "code",
      "source": [
        "import numpy as np\n",
        "import pandas as pd\n",
        "\n",
        "# Generate a NumPy array with random integers\n",
        "random_array = np.random.randint(1, 101, size=(5, 3))\n",
        "\n",
        "# Create a Pandas DataFrame from the NumPy array\n",
        "df = pd.DataFrame(random_array, columns=['Column1', 'Column2', 'Column3'])\n",
        "\n",
        "# Display the DataFrame\n",
        "print(df)\n"
      ],
      "metadata": {
        "colab": {
          "base_uri": "https://localhost:8080/"
        },
        "id": "mZW4c_SSAq5f",
        "outputId": "0ed9994a-ed71-4ad3-da5d-e188c752fe85"
      },
      "execution_count": null,
      "outputs": [
        {
          "output_type": "stream",
          "name": "stdout",
          "text": [
            "   Column1  Column2  Column3\n",
            "0       50       29       35\n",
            "1       58       14       27\n",
            "2       98        8       92\n",
            "3       22       37       98\n",
            "4       17       74       18\n"
          ]
        }
      ]
    },
    {
      "cell_type": "code",
      "source": [
        "#25. Write a function that takes a Pandas DataFrame and replaces all negative values in a specific column with zeros. Use NumPy operations within the Pandas DataFrame."
      ],
      "metadata": {
        "id": "W04pC8ZpA0y2"
      },
      "execution_count": null,
      "outputs": []
    },
    {
      "cell_type": "code",
      "source": [
        "import pandas as pd\n",
        "\n",
        "def replace_negatives_with_zeros(dataframe, column_name):\n",
        "    \"\"\"\n",
        "    Replace all negative values in a specific column of a Pandas DataFrame with zeros.\n",
        "\n",
        "    Parameters:\n",
        "    dataframe (pandas.DataFrame): The input Pandas DataFrame.\n",
        "    column_name (str): The name of the column containing the values to be replaced.\n",
        "\n",
        "    Returns:\n",
        "    pandas.DataFrame: DataFrame with negative values replaced by zeros in the specified column.\n",
        "    \"\"\"\n",
        "    # Replace negative values with zeros using NumPy's where function\n",
        "    dataframe[column_name] = np.where(dataframe[column_name] < 0, 0, dataframe[column_name])\n",
        "    return dataframe\n",
        "\n",
        "data = {'A': [1, -2, 3, -4, 5],\n",
        "        'B': [-1, 2, -3, 4, 5],\n",
        "        'C': [1, 2, 3, 4, 5]}\n",
        "df = pd.DataFrame(data)\n",
        "\n",
        "print(\"Original DataFrame:\")\n",
        "print(df)\n",
        "\n",
        "column_name = 'B'\n",
        "df_modified = replace_negatives_with_zeros(df, column_name)\n",
        "\n",
        "print(\"\\nDataFrame with negative values replaced by zeros in column '{}':\".format(column_name))\n",
        "print(df_modified)\n"
      ],
      "metadata": {
        "colab": {
          "base_uri": "https://localhost:8080/"
        },
        "id": "oLkVzLJ6JXZE",
        "outputId": "53f395f6-b469-4698-de58-592ea13164ad"
      },
      "execution_count": null,
      "outputs": [
        {
          "output_type": "stream",
          "name": "stdout",
          "text": [
            "Original DataFrame:\n",
            "   A  B  C\n",
            "0  1 -1  1\n",
            "1 -2  2  2\n",
            "2  3 -3  3\n",
            "3 -4  4  4\n",
            "4  5  5  5\n",
            "\n",
            "DataFrame with negative values replaced by zeros in column 'B':\n",
            "   A  B  C\n",
            "0  1  0  1\n",
            "1 -2  2  2\n",
            "2  3  0  3\n",
            "3 -4  4  4\n",
            "4  5  5  5\n"
          ]
        }
      ]
    },
    {
      "cell_type": "code",
      "source": [
        "#26. Access the 3rd element from the given NumPy array.\n",
        " # arr = np.array([10, 20, 30, 40, 50])"
      ],
      "metadata": {
        "id": "wV7cv_n3JgBQ"
      },
      "execution_count": null,
      "outputs": []
    },
    {
      "cell_type": "code",
      "source": [
        "import numpy as np\n",
        "\n",
        "arr = np.array([10, 20, 30, 40, 50])\n",
        "third_element = arr[2]\n",
        "print(third_element)\n",
        "\n"
      ],
      "metadata": {
        "colab": {
          "base_uri": "https://localhost:8080/"
        },
        "id": "Qb4Egwy0BukN",
        "outputId": "1dab035b-f602-4870-88ae-956466ee98c2"
      },
      "execution_count": null,
      "outputs": [
        {
          "output_type": "stream",
          "name": "stdout",
          "text": [
            "30\n"
          ]
        }
      ]
    },
    {
      "cell_type": "code",
      "source": [
        "# 27. Retrieve the element at index (1, 2) from the 2D NumPy array."
      ],
      "metadata": {
        "id": "nZ6Dg74mBxez"
      },
      "execution_count": null,
      "outputs": []
    },
    {
      "cell_type": "code",
      "source": [
        "arr_2d = np.array([[1, 2, 3],\n",
        "[4, 5, 6],\n",
        "[7, 8, 9]])"
      ],
      "metadata": {
        "id": "JJuC3MEJDMpa"
      },
      "execution_count": null,
      "outputs": []
    },
    {
      "cell_type": "code",
      "source": [
        "import numpy as np\n",
        "\n",
        "# Define the 2D NumPy array\n",
        "arr_2d = np.array([[1, 2, 3],\n",
        "                    [4, 5, 6],\n",
        "                    [7, 8, 9]])\n",
        "\n",
        "# Retrieve the element at index (1, 2)\n",
        "element = arr_2d[1, 2]\n",
        "print(element)\n"
      ],
      "metadata": {
        "colab": {
          "base_uri": "https://localhost:8080/"
        },
        "id": "BPyvmIU2DMl4",
        "outputId": "407f423c-2377-457e-e12d-f2aade4b771d"
      },
      "execution_count": null,
      "outputs": [
        {
          "output_type": "stream",
          "name": "stdout",
          "text": [
            "6\n"
          ]
        }
      ]
    },
    {
      "cell_type": "code",
      "source": [
        "# 28. Using boolean indexing, extract elements greater than 5 from the given NumPy array.\n",
        "arr = np.array([3, 8, 2, 10, 5, 7])"
      ],
      "metadata": {
        "id": "j584TmKDFbgd"
      },
      "execution_count": null,
      "outputs": []
    },
    {
      "cell_type": "code",
      "source": [
        "import numpy as np\n",
        "\n",
        "# Define the NumPy array\n",
        "arr = np.array([3, 8, 2, 10, 5, 7])\n",
        "\n",
        "# Boolean indexing to extract elements greater than 5\n",
        "result = arr[arr > 5]\n",
        "print(result)\n",
        "\n"
      ],
      "metadata": {
        "colab": {
          "base_uri": "https://localhost:8080/"
        },
        "id": "W4M4RFm9Ehb5",
        "outputId": "0c686655-37fc-4566-d290-083556271123"
      },
      "execution_count": null,
      "outputs": [
        {
          "output_type": "stream",
          "name": "stdout",
          "text": [
            "[ 8 10  7]\n"
          ]
        }
      ]
    },
    {
      "cell_type": "code",
      "source": [
        "# 29. Perform basic slicing to extract elements from index 2 to 5 (inclusive) from the given NumPy array.\n",
        "arr = np.array([1, 2, 3, 4, 5, 6, 7, 8, 9])"
      ],
      "metadata": {
        "id": "UvEPDKY5FQF0"
      },
      "execution_count": null,
      "outputs": []
    },
    {
      "cell_type": "code",
      "source": [
        "import numpy as np\n",
        "\n",
        "# Define the NumPy array\n",
        "arr = np.array([1, 2, 3, 4, 5, 6, 7, 8, 9])\n",
        "\n",
        "# Perform basic slicing to extract elements from index 2 to 5 (inclusive)\n",
        "result = arr[2:6]\n",
        "print(result)\n"
      ],
      "metadata": {
        "colab": {
          "base_uri": "https://localhost:8080/"
        },
        "id": "h3EMUISPFpnF",
        "outputId": "4b04e48a-51df-487d-9942-3678c9766236"
      },
      "execution_count": null,
      "outputs": [
        {
          "output_type": "stream",
          "name": "stdout",
          "text": [
            "[3 4 5 6]\n"
          ]
        }
      ]
    },
    {
      "cell_type": "code",
      "source": [
        "#30. Slice the 2D NumPy array to extract the sub-array `[[2, 3], [5, 6]]` from the given array.\n",
        "arr_2d = np.array([[1, 2, 3],\n",
        "[4, 5, 6],\n",
        "[7, 8, 9]])\n"
      ],
      "metadata": {
        "id": "AYhM3v58Hl6k"
      },
      "execution_count": null,
      "outputs": []
    },
    {
      "cell_type": "code",
      "source": [
        "import numpy as np\n",
        "\n",
        "# Define the 2D NumPy array\n",
        "arr_2d = np.array([[1, 2, 3],\n",
        "                    [4, 5, 6],\n",
        "                    [7, 8, 9]])\n",
        "\n",
        "# Slice the array to extract the sub-array [[2, 3], [5, 6]]\n",
        "sub_array = arr_2d[0:2, 1:3]\n",
        "print(sub_array)\n"
      ],
      "metadata": {
        "id": "kJOz4ql1F-vC",
        "colab": {
          "base_uri": "https://localhost:8080/"
        },
        "outputId": "20c174fb-3660-42cd-c5c0-82fb82b59b16"
      },
      "execution_count": null,
      "outputs": [
        {
          "output_type": "stream",
          "name": "stdout",
          "text": [
            "[[2 3]\n",
            " [5 6]]\n"
          ]
        }
      ]
    },
    {
      "cell_type": "code",
      "source": [
        "#31.Write a NumPy function to extract elements in specific order from a given 2D array based on indices\n",
        "#provided in another array."
      ],
      "metadata": {
        "id": "YAPWz9E5HtKW"
      },
      "execution_count": null,
      "outputs": []
    },
    {
      "cell_type": "code",
      "source": [
        "import numpy as np\n",
        "\n",
        "def extract_elements(arr_2d, indices):\n",
        "    \"\"\"\n",
        "    Extract elements from a given 2D array based on indices provided in another array.\n",
        "\n",
        "    Parameters:\n",
        "        arr_2d (numpy.ndarray): The 2D array from which elements will be extracted.\n",
        "        indices (numpy.ndarray): The array containing indices to extract elements.\n",
        "\n",
        "    Returns:\n",
        "        numpy.ndarray: The extracted elements based on the provided indices.\n",
        "    \"\"\"\n",
        "    # Flatten the 2D array\n",
        "    flattened_arr = arr_2d.flatten()\n",
        "\n",
        "    # Extract elements based on indices\n",
        "    extracted_elements = flattened_arr[indices]\n",
        "\n",
        "    return extracted_elements\n",
        "\n",
        "arr_2d = np.array([[1, 2, 3],\n",
        "                   [4, 5, 6],\n",
        "                   [7, 8, 9]])\n",
        "\n",
        "indices = np.array([1, 3, 4, 7, 8])\n",
        "\n",
        "result = extract_elements(arr_2d, indices)\n",
        "print(result)\n"
      ],
      "metadata": {
        "colab": {
          "base_uri": "https://localhost:8080/"
        },
        "id": "V6EllrurIvv5",
        "outputId": "812c693a-ca9c-4861-c530-01409d290366"
      },
      "execution_count": null,
      "outputs": [
        {
          "output_type": "stream",
          "name": "stdout",
          "text": [
            "[2 4 5 8 9]\n"
          ]
        }
      ]
    },
    {
      "cell_type": "code",
      "source": [
        "#32. Create a NumPy function that filters elements greater than a threshold from a given 1D array using\n",
        "#boolean indexing."
      ],
      "metadata": {
        "id": "Ri07TlFlIzG8"
      },
      "execution_count": null,
      "outputs": []
    },
    {
      "cell_type": "code",
      "source": [
        "import numpy as np\n",
        "\n",
        "def filter_elements(arr, threshold):\n",
        "    \"\"\"\n",
        "    Filter elements greater than a threshold from a given 1D array using boolean indexing.\n",
        "\n",
        "    Parameters:\n",
        "        arr (numpy.ndarray): The 1D array to be filtered.\n",
        "        threshold (int or float): The threshold value for filtering.\n",
        "\n",
        "    Returns:\n",
        "        numpy.ndarray: The filtered array containing elements greater than the threshold.\n",
        "    \"\"\"\n",
        "    # Use boolean indexing to filter elements greater than the threshold\n",
        "    filtered_arr = arr[arr > threshold]\n",
        "\n",
        "    return filtered_arr\n",
        "\n",
        "\n",
        "arr = np.array([1, 5, 10, 15, 20])\n",
        "threshold = 10\n",
        "\n",
        "result = filter_elements(arr, threshold)\n",
        "print(result)\n"
      ],
      "metadata": {
        "colab": {
          "base_uri": "https://localhost:8080/"
        },
        "id": "dAvxm0YfJEn0",
        "outputId": "60e028d2-8c48-4295-ae07-0dc12487c7fe"
      },
      "execution_count": null,
      "outputs": [
        {
          "output_type": "stream",
          "name": "stdout",
          "text": [
            "[15 20]\n"
          ]
        }
      ]
    },
    {
      "cell_type": "code",
      "source": [
        "# 33. Develop a NumPy function that extracts specific elements from a 3D array using indices provided in three\n",
        "# separate arrays for each dimension."
      ],
      "metadata": {
        "id": "mTfYiXa8JZBT"
      },
      "execution_count": null,
      "outputs": []
    },
    {
      "cell_type": "code",
      "source": [
        "import numpy as np\n",
        "\n",
        "def extract_elements_3d(arr_3d, indices_dim1, indices_dim2, indices_dim3):\n",
        "    \"\"\"\n",
        "    Extract specific elements from a 3D array using indices provided in three separate arrays for each dimension.\n",
        "\n",
        "    Parameters:\n",
        "        arr_3d (numpy.ndarray): The 3D array from which elements will be extracted.\n",
        "        indices_dim1 (numpy.ndarray): The array containing indices for the first dimension.\n",
        "        indices_dim2 (numpy.ndarray): The array containing indices for the second dimension.\n",
        "        indices_dim3 (numpy.ndarray): The array containing indices for the third dimension.\n",
        "\n",
        "    Returns:\n",
        "        numpy.ndarray: The extracted elements based on the provided indices.\n",
        "    \"\"\"\n",
        "    # Ensure indices arrays have the same length\n",
        "    assert len(indices_dim1) == len(indices_dim2) == len(indices_dim3), \"Indices arrays must have the same length\"\n",
        "\n",
        "    # Extract elements based on indices\n",
        "    extracted_elements = arr_3d[indices_dim1, indices_dim2, indices_dim3]\n",
        "\n",
        "    return extracted_elements\n",
        "\n",
        "\n",
        "arr_3d = np.array([[[1, 2, 3], [4, 5, 6]], [[7, 8, 9], [10, 11, 12]]])\n",
        "indices_dim1 = np.array([0, 1])\n",
        "indices_dim2 = np.array([0, 1])\n",
        "indices_dim3 = np.array([1, 2])\n",
        "\n",
        "result = extract_elements_3d(arr_3d, indices_dim1, indices_dim2, indices_dim3)\n",
        "print(result)\n"
      ],
      "metadata": {
        "colab": {
          "base_uri": "https://localhost:8080/"
        },
        "id": "FCwP3WmoJiko",
        "outputId": "63e1fa58-5088-4685-f52c-e6721af502a0"
      },
      "execution_count": null,
      "outputs": [
        {
          "output_type": "stream",
          "name": "stdout",
          "text": [
            "[ 2 12]\n"
          ]
        }
      ]
    },
    {
      "cell_type": "code",
      "source": [
        "\n",
        "#35. Create a NumPy function that extracts elements from a 2D array using row and column indices provided\n",
        "# in separate arrays."
      ],
      "metadata": {
        "id": "rGC8NVQSJvJz"
      },
      "execution_count": null,
      "outputs": []
    },
    {
      "cell_type": "code",
      "source": [
        "import numpy as np\n",
        "\n",
        "def extract_elements_2d(arr_2d, row_indices, col_indices):\n",
        "    \"\"\"\n",
        "    Extract elements from a 2D array using row and column indices provided in separate arrays.\n",
        "\n",
        "    Parameters:\n",
        "        arr_2d (numpy.ndarray): The 2D array from which elements will be extracted.\n",
        "        row_indices (numpy.ndarray): The array containing row indices.\n",
        "        col_indices (numpy.ndarray): The array containing column indices.\n",
        "\n",
        "    Returns:\n",
        "        numpy.ndarray: The extracted elements based on the provided row and column indices.\n",
        "    \"\"\"\n",
        "    # Ensure row and column indices arrays have the same length\n",
        "    assert len(row_indices) == len(col_indices), \"Row and column indices arrays must have the same length\"\n",
        "\n",
        "    # Extract elements based on row and column indices\n",
        "    extracted_elements = arr_2d[row_indices, col_indices]\n",
        "\n",
        "    return extracted_elements\n",
        "\n",
        "arr_2d = np.array([[1, 2, 3],\n",
        "                    [4, 5, 6],\n",
        "                    [7, 8, 9]])\n",
        "row_indices = np.array([0, 1, 2])\n",
        "col_indices = np.array([1, 2, 0])\n",
        "\n",
        "result = extract_elements_2d(arr_2d, row_indices, col_indices)\n",
        "print(result)\n"
      ],
      "metadata": {
        "colab": {
          "base_uri": "https://localhost:8080/"
        },
        "id": "TsL6lqTKKdEc",
        "outputId": "29db3a33-798e-4240-ff0e-36455ba83511"
      },
      "execution_count": null,
      "outputs": [
        {
          "output_type": "stream",
          "name": "stdout",
          "text": [
            "[2 6 7]\n"
          ]
        }
      ]
    },
    {
      "cell_type": "code",
      "source": [
        "# 36. Given an array arr of shape (3, 3), add a scalar value of 5 to each\n",
        "# element using NumPy broadcasting."
      ],
      "metadata": {
        "id": "tbpPvRIQKhPf"
      },
      "execution_count": null,
      "outputs": []
    },
    {
      "cell_type": "code",
      "source": [
        "import numpy as np\n",
        "\n",
        "# Create the array\n",
        "arr = np.array([[1, 2, 3],\n",
        "                [4, 5, 6],\n",
        "                [7, 8, 9]])\n",
        "\n",
        "# Add a scalar value of 5 to each element using broadcasting\n",
        "result = arr + 5\n",
        "\n",
        "print(result)\n"
      ],
      "metadata": {
        "colab": {
          "base_uri": "https://localhost:8080/"
        },
        "id": "ack5owsJMcHJ",
        "outputId": "63964f7d-87a6-4f9f-eca6-ba135096a650"
      },
      "execution_count": null,
      "outputs": [
        {
          "output_type": "stream",
          "name": "stdout",
          "text": [
            "[[ 6  7  8]\n",
            " [ 9 10 11]\n",
            " [12 13 14]]\n"
          ]
        }
      ]
    },
    {
      "cell_type": "code",
      "source": [
        "# 37. Consider two arrays arr1 of shape (1, 3) and arr2 of shape (3, 4). Multiply each row of arr2 by the\n",
        "#corresponding element in arr1 using NumPy broadcasting"
      ],
      "metadata": {
        "id": "ZPdE_26cMfeo"
      },
      "execution_count": null,
      "outputs": []
    },
    {
      "cell_type": "code",
      "source": [
        "import numpy as np\n",
        "\n",
        "# Define arrays arr1 and arr2\n",
        "arr1 = np.array([[2, 3, 4]])\n",
        "arr2 = np.array([[1, 2, 3, 4],\n",
        "                 [5, 6, 7, 8],\n",
        "                 [9, 10, 11, 12]])\n",
        "\n",
        "# Reshape arr1 to match the shape of arr2\n",
        "arr1_reshaped = arr1.reshape(3, 1)\n",
        "\n",
        "# Multiply each row of arr2 by the corresponding element in arr1 using broadcasting\n",
        "result = arr1_reshaped * arr2\n",
        "\n",
        "print(result)\n"
      ],
      "metadata": {
        "colab": {
          "base_uri": "https://localhost:8080/"
        },
        "id": "eFvahnlTNFOx",
        "outputId": "22a52025-8cf1-4a63-b694-e38897953962"
      },
      "execution_count": null,
      "outputs": [
        {
          "output_type": "stream",
          "name": "stdout",
          "text": [
            "[[ 2  4  6  8]\n",
            " [15 18 21 24]\n",
            " [36 40 44 48]]\n"
          ]
        }
      ]
    },
    {
      "cell_type": "code",
      "source": [
        "#38. Given a 1D array arr1 of shape (1, 4) and a 2D array arr2 of shape (4, 3), add arr1 to each row of arr2 using\n",
        "# NumPy broadcasting."
      ],
      "metadata": {
        "id": "YAfkks-bNGaE"
      },
      "execution_count": null,
      "outputs": []
    },
    {
      "cell_type": "code",
      "source": [
        "import numpy as np\n",
        "\n",
        "# Define arrays arr1 and arr2\n",
        "arr1 = np.array([[1, 2, 3, 4]])\n",
        "arr2 = np.array([[5, 6, 7],\n",
        "                 [8, 9, 10],\n",
        "                 [11, 12, 13],\n",
        "                 [14, 15, 16]])\n",
        "\n",
        "# Transpose arr1 to shape (4, 1) to make it compatible for broadcasting\n",
        "arr1_transposed = arr1.T\n",
        "\n",
        "# Add arr1 to each row of arr2 using broadcasting\n",
        "result = arr2 + arr1_transposed\n",
        "\n",
        "print(result)\n"
      ],
      "metadata": {
        "colab": {
          "base_uri": "https://localhost:8080/"
        },
        "id": "7ql8cbuINpl5",
        "outputId": "e7944d91-e8ec-4ba9-fbb0-1cf32ccc40fd"
      },
      "execution_count": null,
      "outputs": [
        {
          "output_type": "stream",
          "name": "stdout",
          "text": [
            "[[ 6  7  8]\n",
            " [10 11 12]\n",
            " [14 15 16]\n",
            " [18 19 20]]\n"
          ]
        }
      ]
    },
    {
      "cell_type": "code",
      "source": [
        "#39. Consider two arrays arr1 of shape (3, 1) and arr2 of shape (1, 3). Add these arrays using NumPy\n",
        "#broadcasting."
      ],
      "metadata": {
        "id": "Qgw0KpgYOALI"
      },
      "execution_count": null,
      "outputs": []
    },
    {
      "cell_type": "code",
      "source": [
        "import numpy as np\n",
        "\n",
        "# Define arrays arr1 and arr2\n",
        "arr1 = np.array([[1],\n",
        "                 [2],\n",
        "                 [3]])\n",
        "arr2 = np.array([[4, 5, 6]])\n",
        "\n",
        "# Add arr1 and arr2 using broadcasting\n",
        "result = arr1 + arr2\n",
        "\n",
        "print(result)\n"
      ],
      "metadata": {
        "colab": {
          "base_uri": "https://localhost:8080/"
        },
        "id": "KwSsdQHyQtrh",
        "outputId": "03ac792c-6245-4771-948d-bfc583b7f01a"
      },
      "execution_count": null,
      "outputs": [
        {
          "output_type": "stream",
          "name": "stdout",
          "text": [
            "[[5 6 7]\n",
            " [6 7 8]\n",
            " [7 8 9]]\n"
          ]
        }
      ]
    },
    {
      "cell_type": "code",
      "source": [
        "#40. Given arrays arr1 of shape (2, 3) and arr2 of shape (2, 2), perform multiplication using NumPy\n",
        "#broadcasting. Handle the shape incompatibility"
      ],
      "metadata": {
        "id": "Z0myngHgQ48-"
      },
      "execution_count": null,
      "outputs": []
    },
    {
      "cell_type": "code",
      "source": [
        "import numpy as np\n",
        "\n",
        "# Define arrays arr1 and arr2\n",
        "arr1 = np.array([[1, 2, 3],\n",
        "                 [4, 5, 6]])\n",
        "arr2 = np.array([[1, 2],\n",
        "                 [3, 4]])\n",
        "\n",
        "# Reshape arr2 to shape (2, 2, 1) to make it compatible for broadcasting\n",
        "arr2_reshaped = arr2.reshape(2, 2, 1)\n",
        "\n",
        "# Perform multiplication using broadcasting\n",
        "result = arr1 * arr2_reshaped\n",
        "\n",
        "print(result)\n",
        "\n"
      ],
      "metadata": {
        "colab": {
          "base_uri": "https://localhost:8080/"
        },
        "id": "JXJgyeUuTW7o",
        "outputId": "d3c651c8-21a2-4585-d429-1e3f1aade676"
      },
      "execution_count": null,
      "outputs": [
        {
          "output_type": "stream",
          "name": "stdout",
          "text": [
            "[[[ 1  2  3]\n",
            "  [ 8 10 12]]\n",
            "\n",
            " [[ 3  6  9]\n",
            "  [16 20 24]]]\n"
          ]
        }
      ]
    },
    {
      "cell_type": "code",
      "source": [
        "#41. Calculate column-wise mean for the given array\n",
        "arr = np.array([[1, 2, 3], [4, 5, 6]])"
      ],
      "metadata": {
        "id": "xeCJM3SHTd9x"
      },
      "execution_count": null,
      "outputs": []
    },
    {
      "cell_type": "code",
      "source": [
        "import numpy as np\n",
        "\n",
        "# Define the array\n",
        "arr = np.array([[1, 2, 3],\n",
        "                [4, 5, 6]])\n",
        "\n",
        "# Calculate column-wise mean\n",
        "column_means = np.mean(arr, axis=0)\n",
        "\n",
        "print(column_means)\n"
      ],
      "metadata": {
        "colab": {
          "base_uri": "https://localhost:8080/"
        },
        "id": "YpdhKD_FT5FI",
        "outputId": "eb4bcd92-fc2b-4e72-df0e-b777da04f0c2"
      },
      "execution_count": null,
      "outputs": [
        {
          "output_type": "stream",
          "name": "stdout",
          "text": [
            "[2.5 3.5 4.5]\n"
          ]
        }
      ]
    },
    {
      "cell_type": "code",
      "source": [
        "#42. Find maximum value in each row of the given array\n",
        "arr = np.array([[1, 2, 3], [4, 5, 6]])"
      ],
      "metadata": {
        "id": "SZ2TQr5aUOcY"
      },
      "execution_count": null,
      "outputs": []
    },
    {
      "cell_type": "code",
      "source": [
        "import numpy as np\n",
        "\n",
        "# Define the array\n",
        "arr = np.array([[1, 2, 3],\n",
        "                [4, 5, 6]])\n",
        "\n",
        "# Find maximum value in each row\n",
        "max_values_per_row = np.amax(arr, axis=1)\n",
        "\n",
        "print(max_values_per_row)\n"
      ],
      "metadata": {
        "colab": {
          "base_uri": "https://localhost:8080/"
        },
        "id": "wu38QMXUUro2",
        "outputId": "a33cdeb0-2f97-4867-a7db-87ead3beb47a"
      },
      "execution_count": null,
      "outputs": [
        {
          "output_type": "stream",
          "name": "stdout",
          "text": [
            "[3 6]\n"
          ]
        }
      ]
    },
    {
      "cell_type": "code",
      "source": [
        "#43. For the given array, find indices of maximum value in each column\n",
        "arr = np.array([[1, 2, 3], [4, 5, 6]])"
      ],
      "metadata": {
        "id": "KsxJIG8AUsdr"
      },
      "execution_count": null,
      "outputs": []
    },
    {
      "cell_type": "code",
      "source": [
        "import numpy as np\n",
        "\n",
        "# Define the array\n",
        "arr = np.array([[1, 2, 3],\n",
        "                [4, 5, 6]])\n",
        "\n",
        "# Find indices of maximum value in each column\n",
        "max_indices_per_column = np.argmax(arr, axis=0)\n",
        "\n",
        "print(max_indices_per_column)\n"
      ],
      "metadata": {
        "colab": {
          "base_uri": "https://localhost:8080/"
        },
        "id": "oizo136YU53q",
        "outputId": "729524d2-e951-4ff4-b7db-7ed18fef083a"
      },
      "execution_count": null,
      "outputs": [
        {
          "output_type": "stream",
          "name": "stdout",
          "text": [
            "[1 1 1]\n"
          ]
        }
      ]
    },
    {
      "cell_type": "code",
      "source": [
        "#44. For the given array, apply custom function to calculate moving sum along rows.\n",
        "arr = np.array([[1, 2, 3], [4, 5, 6]])"
      ],
      "metadata": {
        "id": "sjdHIClXU6oo"
      },
      "execution_count": null,
      "outputs": []
    },
    {
      "cell_type": "code",
      "source": [
        "import numpy as np\n",
        "\n",
        "# Define the custom function to calculate moving sum along rows\n",
        "def moving_sum(arr, window_size):\n",
        "    # Define an empty list to store the moving sum results\n",
        "    moving_sum_result = []\n",
        "\n",
        "    # Iterate over each row in the array\n",
        "    for row in arr:\n",
        "        # Initialize an empty list to store the moving sum for the current row\n",
        "        row_moving_sum = []\n",
        "        # Iterate over each element in the row\n",
        "        for i in range(len(row) - window_size + 1):\n",
        "            # Calculate the moving sum for the current window\n",
        "            window_sum = sum(row[i:i+window_size])\n",
        "            # Append the moving sum to the list\n",
        "            row_moving_sum.append(window_sum)\n",
        "        # Append the moving sum for the current row to the final result\n",
        "        moving_sum_result.append(row_moving_sum)\n",
        "\n",
        "    # Convert the result to a NumPy array\n",
        "    return np.array(moving_sum_result)\n",
        "\n",
        "# Define the array\n",
        "arr = np.array([[1, 2, 3],\n",
        "                [4, 5, 6]])\n",
        "\n",
        "# Define the window size for moving sum\n",
        "window_size = 2\n",
        "\n",
        "# Calculate the moving sum along rows using the custom function\n",
        "moving_sum_result = moving_sum(arr, window_size)\n",
        "\n",
        "print(moving_sum_result)\n"
      ],
      "metadata": {
        "colab": {
          "base_uri": "https://localhost:8080/"
        },
        "id": "nAdhf6qGVIIZ",
        "outputId": "12ed7162-7322-4271-f50f-b3763c6cee4d"
      },
      "execution_count": null,
      "outputs": [
        {
          "output_type": "stream",
          "name": "stdout",
          "text": [
            "[[ 3  5]\n",
            " [ 9 11]]\n"
          ]
        }
      ]
    },
    {
      "cell_type": "code",
      "source": [
        "#45. In the given array, check if all elements in each column are even.\n",
        "arr = np.array([[2, 4, 6], [3, 5, 7]])"
      ],
      "metadata": {
        "id": "rW_fJCuyVSqZ"
      },
      "execution_count": null,
      "outputs": []
    },
    {
      "cell_type": "code",
      "source": [
        "import numpy as np\n",
        "\n",
        "# Define the array\n",
        "arr = np.array([[2, 4, 6],\n",
        "                [3, 5, 7]])\n",
        "\n",
        "# Check if all elements in each column are even\n",
        "are_all_even = np.all(arr % 2 == 0, axis=0)\n",
        "\n",
        "print(are_all_even)\n"
      ],
      "metadata": {
        "colab": {
          "base_uri": "https://localhost:8080/"
        },
        "id": "npFta2TpV2N5",
        "outputId": "6d24fb01-41d0-4de9-9b42-b77435e5a782"
      },
      "execution_count": null,
      "outputs": [
        {
          "output_type": "stream",
          "name": "stdout",
          "text": [
            "[False False False]\n"
          ]
        }
      ]
    },
    {
      "cell_type": "code",
      "source": [
        "#46. Given a NumPy array arr, reshape it into a matrix of dimensions `m` rows and `n` columns. Return the\n",
        "#reshaped matrix.\n",
        "original_array = np.array([1, 2, 3, 4, 5, 6])"
      ],
      "metadata": {
        "id": "3h2M-mGUV3QD"
      },
      "execution_count": null,
      "outputs": []
    },
    {
      "cell_type": "code",
      "source": [
        "import numpy as np\n",
        "\n",
        "# Define the original array\n",
        "original_array = np.array([1, 2, 3, 4, 5, 6])\n",
        "\n",
        "# Define the dimensions of the desired matrix\n",
        "m = 2  # Number of rows\n",
        "n = 3  # Number of columns\n",
        "\n",
        "# Reshape the original array into a matrix of dimensions m rows and n columns\n",
        "reshaped_matrix = original_array.reshape(m, n)\n",
        "\n",
        "print(reshaped_matrix)\n"
      ],
      "metadata": {
        "colab": {
          "base_uri": "https://localhost:8080/"
        },
        "id": "b4BwpxE3WjAA",
        "outputId": "a5cba156-5b41-4f73-f4f1-cb40438b08ea"
      },
      "execution_count": null,
      "outputs": [
        {
          "output_type": "stream",
          "name": "stdout",
          "text": [
            "[[1 2 3]\n",
            " [4 5 6]]\n"
          ]
        }
      ]
    },
    {
      "cell_type": "code",
      "source": [
        "#47. Create a function that takes a matrix as input and returns the flattened array.\n",
        "input_matrix = np.array([[1, 2, 3], [4, 5, 6]])"
      ],
      "metadata": {
        "id": "B1Ht6kvaWkkc"
      },
      "execution_count": null,
      "outputs": []
    },
    {
      "cell_type": "code",
      "source": [
        "import numpy as np\n",
        "\n",
        "def flatten_matrix(input_matrix):\n",
        "    \"\"\"\n",
        "    Flatten the input matrix into a 1D array.\n",
        "\n",
        "    Parameters:\n",
        "        input_matrix (numpy.ndarray): The input matrix to be flattened.\n",
        "\n",
        "    Returns:\n",
        "        numpy.ndarray: The flattened array.\n",
        "    \"\"\"\n",
        "    # Flatten the input matrix\n",
        "    flattened_array = input_matrix.flatten()\n",
        "\n",
        "    return flattened_array\n",
        "\n",
        "# Define the input matrix\n",
        "input_matrix = np.array([[1, 2, 3],\n",
        "                         [4, 5, 6]])\n",
        "\n",
        "# Flatten the input matrix\n",
        "flattened_array = flatten_matrix(input_matrix)\n",
        "\n",
        "print(flattened_array)\n"
      ],
      "metadata": {
        "colab": {
          "base_uri": "https://localhost:8080/"
        },
        "id": "4KIB8vmJWyrp",
        "outputId": "8ade9576-c21c-4ad9-d041-8be36dc30aec"
      },
      "execution_count": null,
      "outputs": [
        {
          "output_type": "stream",
          "name": "stdout",
          "text": [
            "[1 2 3 4 5 6]\n"
          ]
        }
      ]
    },
    {
      "cell_type": "code",
      "source": [
        "#48. Write a function that concatenates two given arrays along a specified axis.\n",
        "array1 = np.array([[1, 2], [3, 4]])\n",
        "array2 = np.array([[5, 6], [7, 8]])"
      ],
      "metadata": {
        "id": "RWQPXd_8XE1O"
      },
      "execution_count": null,
      "outputs": []
    },
    {
      "cell_type": "code",
      "source": [
        "import numpy as np\n",
        "\n",
        "def concatenate_arrays(array1, array2, axis=0):\n",
        "    \"\"\"\n",
        "    Concatenate two given arrays along a specified axis.\n",
        "\n",
        "    Parameters:\n",
        "        array1 (numpy.ndarray): The first array to be concatenated.\n",
        "        array2 (numpy.ndarray): The second array to be concatenated.\n",
        "        axis (int, optional): The axis along which the arrays will be concatenated. Default is 0.\n",
        "\n",
        "    Returns:\n",
        "        numpy.ndarray: The concatenated array.\n",
        "    \"\"\"\n",
        "    # Concatenate the arrays along the specified axis\n",
        "    concatenated_array = np.concatenate((array1, array2), axis=axis)\n",
        "\n",
        "    return concatenated_array\n",
        "\n",
        "# Define the arrays\n",
        "array1 = np.array([[1, 2],\n",
        "                   [3, 4]])\n",
        "array2 = np.array([[5, 6],\n",
        "                   [7, 8]])\n",
        "\n",
        "# Concatenate the arrays along axis 0 (rows)\n",
        "concatenated_array_rows = concatenate_arrays(array1, array2, axis=0)\n",
        "print(\"Concatenated along rows:\\n\", concatenated_array_rows)\n",
        "\n",
        "# Concatenate the arrays along axis 1 (columns)\n",
        "concatenated_array_columns = concatenate_arrays(array1, array2, axis=1)\n",
        "print(\"\\nConcatenated along columns:\\n\", concatenated_array_columns)\n"
      ],
      "metadata": {
        "colab": {
          "base_uri": "https://localhost:8080/"
        },
        "id": "hxkdB6aPXZ-o",
        "outputId": "10f6be0f-b553-4f23-f99b-f2b5b61c5a0a"
      },
      "execution_count": null,
      "outputs": [
        {
          "output_type": "stream",
          "name": "stdout",
          "text": [
            "Concatenated along rows:\n",
            " [[1 2]\n",
            " [3 4]\n",
            " [5 6]\n",
            " [7 8]]\n",
            "\n",
            "Concatenated along columns:\n",
            " [[1 2 5 6]\n",
            " [3 4 7 8]]\n"
          ]
        }
      ]
    },
    {
      "cell_type": "code",
      "source": [
        "#49. Create a function that splits an array into multiple sub-arrays along a specified axis.\n",
        "original_array = np.array([[1, 2, 3], [4, 5, 6], [7, 8, 9]])"
      ],
      "metadata": {
        "id": "CDfsqKl3XxSu"
      },
      "execution_count": null,
      "outputs": []
    },
    {
      "cell_type": "code",
      "source": [
        "import numpy as np\n",
        "\n",
        "def split_array(original_array, num_splits, axis=0):\n",
        "    \"\"\"\n",
        "    Split an array into multiple sub-arrays along a specified axis.\n",
        "\n",
        "    Parameters:\n",
        "        original_array (numpy.ndarray): The original array to be split.\n",
        "        num_splits (int): The number of splits.\n",
        "        axis (int, optional): The axis along which to split the array. Default is 0.\n",
        "\n",
        "    Returns:\n",
        "        list of numpy.ndarray: The list of sub-arrays.\n",
        "    \"\"\"\n",
        "    # Split the original array along the specified axis\n",
        "    sub_arrays = np.split(original_array, num_splits, axis=axis)\n",
        "\n",
        "    return sub_arrays\n",
        "\n",
        "# Define the original array\n",
        "original_array = np.array([[1, 2, 3],\n",
        "                           [4, 5, 6],\n",
        "                           [7, 8, 9]])\n",
        "\n",
        "# Split the original array into 3 sub-arrays along axis 0 (rows)\n",
        "sub_arrays = split_array(original_array, num_splits=3, axis=0)\n",
        "print(\"Sub-arrays along rows:\")\n",
        "for arr in sub_arrays:\n",
        "    print(arr)\n",
        "\n",
        "# Split the original array into 3 sub-arrays along axis 1 (columns)\n",
        "sub_arrays = split_array(original_array, num_splits=3, axis=1)\n",
        "print(\"\\nSub-arrays along columns:\")\n",
        "for arr in sub_arrays:\n",
        "    print(arr)\n"
      ],
      "metadata": {
        "colab": {
          "base_uri": "https://localhost:8080/"
        },
        "id": "LNm9xiP0YBYJ",
        "outputId": "a29c1c09-62c9-4d65-a575-14c6c5f6fb18"
      },
      "execution_count": null,
      "outputs": [
        {
          "output_type": "stream",
          "name": "stdout",
          "text": [
            "Sub-arrays along rows:\n",
            "[[1 2 3]]\n",
            "[[4 5 6]]\n",
            "[[7 8 9]]\n",
            "\n",
            "Sub-arrays along columns:\n",
            "[[1]\n",
            " [4]\n",
            " [7]]\n",
            "[[2]\n",
            " [5]\n",
            " [8]]\n",
            "[[3]\n",
            " [6]\n",
            " [9]]\n"
          ]
        }
      ]
    },
    {
      "cell_type": "code",
      "source": [
        "#50. Write a function that inserts and then deletes elements from a given array at specified indices.\n",
        "original_array = np.array([1, 2, 3, 4, 5])\n",
        "indices_to_insert = [2, 4]\n",
        "values_to_insert = [10, 11]\n",
        "indices_to_delete = [1, 3]"
      ],
      "metadata": {
        "id": "j-mxKWavZvo4"
      },
      "execution_count": null,
      "outputs": []
    },
    {
      "cell_type": "code",
      "source": [
        "import numpy as np\n",
        "\n",
        "def insert_and_delete_elements(original_array, indices_to_insert, values_to_insert, indices_to_delete):\n",
        "    \"\"\"\n",
        "    Inserts elements into and deletes elements from a given array at specified indices.\n",
        "\n",
        "    Parameters:\n",
        "        original_array (numpy.ndarray): The original array.\n",
        "        indices_to_insert (list): The indices where elements will be inserted.\n",
        "        values_to_insert (list): The values to be inserted at the specified indices.\n",
        "        indices_to_delete (list): The indices of elements to be deleted.\n",
        "\n",
        "    Returns:\n",
        "        numpy.ndarray: The modified array after insertion and deletion.\n",
        "    \"\"\"\n",
        "    # Insert elements into the original array at specified indices\n",
        "    modified_array = np.insert(original_array, indices_to_insert, values_to_insert)\n",
        "\n",
        "    # Delete elements from the modified array at specified indices\n",
        "    modified_array = np.delete(modified_array, indices_to_delete)\n",
        "\n",
        "    return modified_array\n",
        "\n",
        "# Define the original array\n",
        "original_array = np.array([1, 2, 3, 4, 5])\n",
        "\n",
        "# Define indices to insert elements\n",
        "indices_to_insert = [2, 4]\n",
        "\n",
        "# Define values to insert at specified indices\n",
        "values_to_insert = [10, 11]\n",
        "\n",
        "# Define indices to delete elements\n",
        "indices_to_delete = [1, 3]\n",
        "\n",
        "# Insert and delete elements from the original array\n",
        "modified_array = insert_and_delete_elements(original_array, indices_to_insert, values_to_insert, indices_to_delete)\n",
        "print(\"Modified array:\", modified_array)\n"
      ],
      "metadata": {
        "colab": {
          "base_uri": "https://localhost:8080/"
        },
        "id": "QPdvzojLaJKB",
        "outputId": "51754cb7-be7f-4f8b-d5d8-3c8a25a0142e"
      },
      "execution_count": null,
      "outputs": [
        {
          "output_type": "stream",
          "name": "stdout",
          "text": [
            "Modified array: [ 1 10  4 11  5]\n"
          ]
        }
      ]
    },
    {
      "cell_type": "code",
      "source": [
        "# 51. Create a NumPy array `arr1` with random integers and another array `arr2` with integers from 1 to 10.\n",
        "# Perform element-wise addition between `arr1` and `arr2`"
      ],
      "metadata": {
        "id": "UZsBBcDaaUVP"
      },
      "execution_count": null,
      "outputs": []
    },
    {
      "cell_type": "code",
      "source": [
        "# Proper definition and usage of variables\n",
        "import numpy as np\n",
        "\n",
        "# Define arr1 and arr2 correctly\n",
        "arr1 = np.random.randint(0, 100, size=10)\n",
        "arr2 = np.arange(1, 11)\n",
        "\n",
        "# Perform the element-wise addition\n",
        "result = arr1 + arr2\n",
        "\n",
        "# Print the arrays and the result\n",
        "print(\"arr1:\", arr1)\n",
        "print(\"arr2:\", arr2)\n",
        "print(\"result:\", result)\n",
        "\n",
        "\n",
        "\n"
      ],
      "metadata": {
        "colab": {
          "base_uri": "https://localhost:8080/"
        },
        "id": "AZdfY3XRPrzl",
        "outputId": "b6d03d10-4d07-4a5f-b6f8-d793d5e0e67d"
      },
      "execution_count": null,
      "outputs": [
        {
          "output_type": "stream",
          "name": "stdout",
          "text": [
            "arr1: [13 40 13 39 32 65 16 80 92 10]\n",
            "arr2: [ 1  2  3  4  5  6  7  8  9 10]\n",
            "result: [ 14  42  16  43  37  71  23  88 101  20]\n"
          ]
        }
      ]
    },
    {
      "cell_type": "code",
      "source": [
        "# 52. Generate a NumPy array `arr1` with sequential integers from 10 to 1 and another array `arr2` with integers\n",
        "# from 1 to 10. Subtract `arr2` from `arr1` element-wise."
      ],
      "metadata": {
        "id": "uqBQ3k8OQCuM"
      },
      "execution_count": null,
      "outputs": []
    },
    {
      "cell_type": "code",
      "source": [
        "import numpy as np\n",
        "\n",
        "# Generate arr1 with sequential integers from 10 to 1\n",
        "arr1 = np.arange(10, 0, -1)\n",
        "\n",
        "# Generate arr2 with integers from 1 to 10\n",
        "arr2 = np.arange(1, 11)\n",
        "\n",
        "# Subtract arr2 from arr1 element-wise\n",
        "result = arr1 - arr2\n",
        "\n",
        "print(\"arr1:\", arr1)\n",
        "print(\"arr2:\", arr2)\n",
        "print(\"Result of arr1 - arr2:\", result)\n"
      ],
      "metadata": {
        "colab": {
          "base_uri": "https://localhost:8080/"
        },
        "id": "tOBTh8pJS61R",
        "outputId": "7c879d8b-8bee-4453-fcdd-398f9ad00438"
      },
      "execution_count": null,
      "outputs": [
        {
          "output_type": "stream",
          "name": "stdout",
          "text": [
            "arr1: [10  9  8  7  6  5  4  3  2  1]\n",
            "arr2: [ 1  2  3  4  5  6  7  8  9 10]\n",
            "Result of arr1 - arr2: [ 9  7  5  3  1 -1 -3 -5 -7 -9]\n"
          ]
        }
      ]
    },
    {
      "cell_type": "code",
      "source": [
        "#53. Create a NumPy array `arr1` with random integers and another array `arr2` with integers from 1 to 5.\n",
        "#Perform element-wise multiplication between `arr1` and `arr2`"
      ],
      "metadata": {
        "id": "J7qOA6PNTlRq"
      },
      "execution_count": null,
      "outputs": []
    },
    {
      "cell_type": "code",
      "source": [
        "import numpy as np\n",
        "\n",
        "# Create arr1 with random integers\n",
        "arr1 = np.random.randint(1, 10, size=(5, 5))  # Adjust the size as needed\n",
        "print(\"arr1:\")\n",
        "print(arr1)\n",
        "\n",
        "# Create arr2 with integers from 1 to 5\n",
        "arr2 = np.arange(1, 6)\n",
        "print(\"\\narr2:\")\n",
        "print(arr2)\n",
        "\n",
        "# Perform element-wise multiplication\n",
        "result = arr1 * arr2\n",
        "print(\"\\nElement-wise multiplication:\")\n",
        "print(result)\n"
      ],
      "metadata": {
        "colab": {
          "base_uri": "https://localhost:8080/"
        },
        "id": "p3mIhXHXYVQM",
        "outputId": "3e0ee587-c62f-4d4c-d0ae-b180bf1dd953"
      },
      "execution_count": null,
      "outputs": [
        {
          "output_type": "stream",
          "name": "stdout",
          "text": [
            "arr1:\n",
            "[[5 3 5 8 9]\n",
            " [1 3 6 8 5]\n",
            " [7 1 9 2 1]\n",
            " [6 4 8 8 8]\n",
            " [8 2 5 3 9]]\n",
            "\n",
            "arr2:\n",
            "[1 2 3 4 5]\n",
            "\n",
            "Element-wise multiplication:\n",
            "[[ 5  6 15 32 45]\n",
            " [ 1  6 18 32 25]\n",
            " [ 7  2 27  8  5]\n",
            " [ 6  8 24 32 40]\n",
            " [ 8  4 15 12 45]]\n"
          ]
        }
      ]
    },
    {
      "cell_type": "code",
      "source": [
        "# 54. Generate a NumPy array `arr1` with even integers from 2 to 10 and another array `arr2` with integers from 1\n",
        "#to 5. Perform element-wise division of `arr1` by `arr2`."
      ],
      "metadata": {
        "id": "cIgL_FkwYcJ-"
      },
      "execution_count": null,
      "outputs": []
    },
    {
      "cell_type": "code",
      "source": [
        "import numpy as np\n",
        "\n",
        "# Generate arr1 with even integers from 2 to 10\n",
        "arr1 = np.arange(2, 11, 2)\n",
        "print(\"arr1:\")\n",
        "print(arr1)\n",
        "\n",
        "# Generate arr2 with integers from 1 to 5\n",
        "arr2 = np.arange(1, 6)\n",
        "print(\"\\narr2:\")\n",
        "print(arr2)\n",
        "\n",
        "# Perform element-wise division\n",
        "result = arr1 / arr2\n",
        "print(\"\\nElement-wise division:\")\n",
        "print(result)\n"
      ],
      "metadata": {
        "colab": {
          "base_uri": "https://localhost:8080/"
        },
        "id": "pBYTR1LmYijq",
        "outputId": "704a1071-ea24-430b-d7b3-ab5f1ccc2c84"
      },
      "execution_count": null,
      "outputs": [
        {
          "output_type": "stream",
          "name": "stdout",
          "text": [
            "arr1:\n",
            "[ 2  4  6  8 10]\n",
            "\n",
            "arr2:\n",
            "[1 2 3 4 5]\n",
            "\n",
            "Element-wise division:\n",
            "[2. 2. 2. 2. 2.]\n"
          ]
        }
      ]
    },
    {
      "cell_type": "code",
      "source": [
        "# 55. Create a NumPy array `arr1` with integers from 1 to 5 and another array `arr2` with the same numbers\n",
        "#reversed. Calculate the exponentiation of `arr1` raised to the power of `arr2` element-wise."
      ],
      "metadata": {
        "id": "fk2qweapaGHO"
      },
      "execution_count": null,
      "outputs": []
    },
    {
      "cell_type": "code",
      "source": [
        "import numpy as np\n",
        "\n",
        "# Create arr1 with integers from 1 to 5\n",
        "arr1 = np.arange(1, 6)\n",
        "print(\"arr1:\")\n",
        "print(arr1)\n",
        "\n",
        "# Create arr2 with the same numbers reversed\n",
        "arr2 = np.flip(arr1)\n",
        "print(\"\\narr2:\")\n",
        "print(arr2)\n",
        "\n",
        "# Calculate the exponentiation of arr1 raised to the power of arr2 element-wise\n",
        "result = np.power(arr1, arr2)\n",
        "print(\"\\nExponentiation of arr1 raised to the power of arr2 element-wise:\")\n",
        "print(result)\n"
      ],
      "metadata": {
        "colab": {
          "base_uri": "https://localhost:8080/"
        },
        "id": "yEttkcdiaQ9d",
        "outputId": "9f9f6817-1759-459e-b0ed-eb05a89e89aa"
      },
      "execution_count": null,
      "outputs": [
        {
          "output_type": "stream",
          "name": "stdout",
          "text": [
            "arr1:\n",
            "[1 2 3 4 5]\n",
            "\n",
            "arr2:\n",
            "[5 4 3 2 1]\n",
            "\n",
            "Exponentiation of arr1 raised to the power of arr2 element-wise:\n",
            "[ 1 16 27 16  5]\n"
          ]
        }
      ]
    },
    {
      "cell_type": "code",
      "source": [
        "#56. Write a function that counts the occurrences of a specific substring within a NumPy array of string\n",
        " #arr = np.array(['hello', 'world', 'hello', 'numpy', 'hello'])"
      ],
      "metadata": {
        "id": "72OZGFdNn6Cu"
      },
      "execution_count": null,
      "outputs": []
    },
    {
      "cell_type": "code",
      "source": [
        "import numpy as np\n",
        "\n",
        "def count_substring_occurrences(arr, substr):\n",
        "    # Vectorized approach using np.char.count\n",
        "    counts = np.char.count(arr, substr)\n",
        "    total_occurrences = np.sum(counts)\n",
        "    return total_occurrences\n",
        "\n",
        "# Example usage:\n",
        "arr = np.array(['hello', 'world', 'hello', 'numpy', 'hello'])\n",
        "substring = 'hello'\n",
        "occurrences = count_substring_occurrences(arr, substring)\n",
        "print(f\"The substring '{substring}' occurs {occurrences} times in the array.\")\n"
      ],
      "metadata": {
        "id": "PKc7aHo1d2up",
        "colab": {
          "base_uri": "https://localhost:8080/"
        },
        "outputId": "149fd8af-5169-4e47-fafb-4dc6078bb419"
      },
      "execution_count": null,
      "outputs": [
        {
          "output_type": "stream",
          "name": "stdout",
          "text": [
            "The substring 'hello' occurs 3 times in the array.\n"
          ]
        }
      ]
    },
    {
      "cell_type": "code",
      "source": [
        "# 57. Write a function that extracts uppercase characters from a NumPy array of strings.\n",
        "\n",
        "#arr = np.array(['Hello', 'World', 'OpenAI', 'GPT'])"
      ],
      "metadata": {
        "id": "EqxnIGBsn3u5"
      },
      "execution_count": null,
      "outputs": []
    },
    {
      "cell_type": "code",
      "source": [
        "import numpy as np\n",
        "\n",
        "def extract_uppercase(arr):\n",
        "    # Initialize an empty list to store the uppercase characters\n",
        "    uppercase_chars = []\n",
        "\n",
        "    # Iterate over each string in the array\n",
        "    for string in arr:\n",
        "        # Use list comprehension to extract uppercase characters from each string\n",
        "        uppercase_chars.extend([char for char in string if char.isupper()])\n",
        "\n",
        "    # Convert the list of uppercase characters to a NumPy array\n",
        "    uppercase_arr = np.array(uppercase_chars)\n",
        "\n",
        "    return uppercase_arr\n",
        "\n",
        "# Example usage:\n",
        "arr = np.array(['Hello', 'World', 'OpenAI', 'GPT'])\n",
        "uppercase_chars = extract_uppercase(arr)\n",
        "print(\"Uppercase characters extracted from the array:\", uppercase_chars)\n"
      ],
      "metadata": {
        "colab": {
          "base_uri": "https://localhost:8080/"
        },
        "id": "3r4PY_GYoKFN",
        "outputId": "98ceebde-81a8-48cf-baa6-96987f8fc043"
      },
      "execution_count": null,
      "outputs": [
        {
          "output_type": "stream",
          "name": "stdout",
          "text": [
            "Uppercase characters extracted from the array: ['H' 'W' 'O' 'A' 'I' 'G' 'P' 'T']\n"
          ]
        }
      ]
    },
    {
      "cell_type": "code",
      "source": [
        "#58. Write a function that replaces occurrences of a substring in a NumPy array of strings with a new string.\n",
        "\n",
        "#arr = np.array(['apple', 'banana', 'grape', 'pineapple'])"
      ],
      "metadata": {
        "id": "Lw5YmbEfopDa"
      },
      "execution_count": null,
      "outputs": []
    },
    {
      "cell_type": "code",
      "source": [
        "import numpy as np\n",
        "\n",
        "def replace_substring(arr, old_substring, new_substring):\n",
        "    # Vectorized approach using np.char.replace\n",
        "    replaced_arr = np.char.replace(arr, old_substring, new_substring)\n",
        "    return replaced_arr\n",
        "\n",
        "# Example usage:\n",
        "arr = np.array(['apple', 'banana', 'grape', 'pineapple'])\n",
        "old_substring = 'apple'\n",
        "new_substring = 'orange'\n",
        "new_arr = replace_substring(arr, old_substring, new_substring)\n",
        "print(\"Original array:\", arr)\n",
        "print(\"Array after replacement:\", new_arr)\n"
      ],
      "metadata": {
        "colab": {
          "base_uri": "https://localhost:8080/"
        },
        "id": "nAi6BntRqNDS",
        "outputId": "78bb4a5d-fe67-46e5-96ae-b497ca831e26"
      },
      "execution_count": null,
      "outputs": [
        {
          "output_type": "stream",
          "name": "stdout",
          "text": [
            "Original array: ['apple' 'banana' 'grape' 'pineapple']\n",
            "Array after replacement: ['orange' 'banana' 'grape' 'pineorange']\n"
          ]
        }
      ]
    },
    {
      "cell_type": "code",
      "source": [
        "# 59. Write a function that concatenates strings in a NumPy array element-wise\n"
      ],
      "metadata": {
        "id": "i-boH1zzqN9c"
      },
      "execution_count": null,
      "outputs": []
    },
    {
      "cell_type": "code",
      "source": [
        "import numpy as np\n",
        "\n",
        "def concatenate_strings_elementwise(arr1, arr2):\n",
        "    # Ensure the input arrays are NumPy arrays\n",
        "    arr1 = np.array(arr1, dtype=str)\n",
        "    arr2 = np.array(arr2, dtype=str)\n",
        "\n",
        "    # Perform element-wise string concatenation\n",
        "    concatenated = np.char.add(arr1, arr2)\n",
        "\n",
        "    return concatenated\n",
        "\n",
        "# Example usage\n",
        "arr1 = np.array([\"hello\", \"world\"])\n",
        "arr2 = np.array([\"_numpy\", \"_array\"])\n",
        "result = concatenate_strings_elementwise(arr1, arr2)\n",
        "print(result)\n",
        "\n"
      ],
      "metadata": {
        "id": "qH-kTL7FrdtN",
        "outputId": "be188bd4-0b59-4782-bd46-06867ad58747",
        "colab": {
          "base_uri": "https://localhost:8080/"
        }
      },
      "execution_count": null,
      "outputs": [
        {
          "output_type": "stream",
          "name": "stdout",
          "text": [
            "['hello_numpy' 'world_array']\n"
          ]
        }
      ]
    },
    {
      "cell_type": "code",
      "source": [
        "# 60. Write a function that finds the length of the longest string in a NumPy array.\n",
        "\n",
        "# arr = np.array(['apple', 'banana', 'grape', 'pineapple'])"
      ],
      "metadata": {
        "id": "TP7SDQnkrekx"
      },
      "execution_count": null,
      "outputs": []
    },
    {
      "cell_type": "code",
      "source": [
        "import numpy as np\n",
        "\n",
        "def find_longest_string_length(arr):\n",
        "    # Convert each string to its length\n",
        "    lengths = np.vectorize(len)(arr)\n",
        "    # Find the maximum length\n",
        "    max_length = np.max(lengths)\n",
        "    return max_length\n",
        "\n",
        "# Example usage\n",
        "arr = np.array(['apple', 'banana', 'grape', 'pineapple'])\n",
        "print(find_longest_string_length(arr))  # Output should be 9\n"
      ],
      "metadata": {
        "colab": {
          "base_uri": "https://localhost:8080/"
        },
        "id": "yLuG_YXD9raf",
        "outputId": "18e74ce5-c4cf-4a03-be3e-3cc2ad31b749"
      },
      "execution_count": null,
      "outputs": [
        {
          "output_type": "stream",
          "name": "stdout",
          "text": [
            "9\n"
          ]
        }
      ]
    },
    {
      "cell_type": "code",
      "source": [
        " # 61. Create a dataset of 100 random integers between 1 and 1000. Compute the mean, median, variance, and\n",
        "# standard deviation of the dataset using NumPy's functions.\n"
      ],
      "metadata": {
        "id": "RjUdCL38-bND"
      },
      "execution_count": null,
      "outputs": []
    },
    {
      "cell_type": "code",
      "source": [
        "import numpy as np\n",
        "\n",
        "# Create a dataset of 100 random integers between 1 and 1000\n",
        "dataset = np.random.randint(1, 1001, size=100)\n",
        "\n",
        "# Compute the mean\n",
        "mean = np.mean(dataset)\n",
        "\n",
        "# Compute the median\n",
        "median = np.median(dataset)\n",
        "\n",
        "# Compute the variance\n",
        "variance = np.var(dataset)\n",
        "\n",
        "# Compute the standard deviation\n",
        "std_deviation = np.std(dataset)\n",
        "\n",
        "# Print the results\n",
        "print(\"Dataset:\", dataset)\n",
        "print(\"Mean:\", mean)\n",
        "print(\"Median:\", median)\n",
        "print(\"Variance:\", variance)\n",
        "print(\"Standard Deviation:\", std_deviation)\n"
      ],
      "metadata": {
        "colab": {
          "base_uri": "https://localhost:8080/"
        },
        "id": "ZBOGw6lo-ikx",
        "outputId": "60de1c1c-9a40-475e-a20c-4287f81a0a90"
      },
      "execution_count": null,
      "outputs": [
        {
          "output_type": "stream",
          "name": "stdout",
          "text": [
            "Dataset: [173 149 827 252 876 116 674 251 641 948   8 833 938  52 665 274  50  34\n",
            " 666 660 686 565 121 343 812 387 146 994 553 660 643 869  57 566 305 793\n",
            " 778 173 438 219 491 993 300 727  59 481 315 444 871 581 441 845 189 870\n",
            " 440 210 156 212 671 878 525 773 731 656 457 803 655 802 549 910 429 670\n",
            " 497 771 250 266 678  66 918 404 649 470 956 460 254 331 610 378 308 917\n",
            " 203 450 650 366 624 612 480  78 477 918]\n",
            "Mean: 513.7\n",
            "Median: 511.0\n",
            "Variance: 75026.29000000001\n",
            "Standard Deviation: 273.9092733004854\n"
          ]
        }
      ]
    },
    {
      "cell_type": "code",
      "source": [
        "# 62. Generate an array of 50 random numbers between 1 and 100. Find the 25th and 75th percentiles of the\n",
        "# dataset."
      ],
      "metadata": {
        "id": "BRisrJlI-3A6"
      },
      "execution_count": null,
      "outputs": []
    },
    {
      "cell_type": "code",
      "source": [
        "import numpy as np\n",
        "\n",
        "# Generate an array of 50 random numbers between 1 and 100\n",
        "random_numbers = np.random.randint(1, 101, size=50)\n",
        "\n",
        "# Compute the 25th percentile\n",
        "percentile_25 = np.percentile(random_numbers, 25)\n",
        "\n",
        "# Compute the 75th percentile\n",
        "percentile_75 = np.percentile(random_numbers, 75)\n",
        "\n",
        "# Print the results\n",
        "print(\"Random Numbers:\", random_numbers)\n",
        "print(\"25th Percentile:\", percentile_25)\n",
        "print(\"75th Percentile:\", percentile_75)\n"
      ],
      "metadata": {
        "colab": {
          "base_uri": "https://localhost:8080/"
        },
        "id": "A5eA9QmV-9SP",
        "outputId": "29e6de57-068c-4844-bacf-d4a11f6c8ade"
      },
      "execution_count": null,
      "outputs": [
        {
          "output_type": "stream",
          "name": "stdout",
          "text": [
            "Random Numbers: [ 38  35  18  89  84  58   4   9  77  45  81  29  38  38  93  36  79  49\n",
            "  21  33  81  38  95  95  98   2  25  92 100  89  87  57   3  13  60  14\n",
            "  72  22  10  47  60  49   3  66   4  36  27  50  34  97]\n",
            "25th Percentile: 25.5\n",
            "75th Percentile: 80.5\n"
          ]
        }
      ]
    },
    {
      "cell_type": "code",
      "source": [
        "\n",
        "#63. Create two arrays representing two sets of variables. Compute the correlation coefficient between these\n",
        "# arrays using NumPy's `corrcoef` function"
      ],
      "metadata": {
        "id": "VI2x2JRJAb4R"
      },
      "execution_count": null,
      "outputs": []
    },
    {
      "cell_type": "code",
      "source": [
        "import numpy as np\n",
        "\n",
        "# Step 1: Import NumPy\n",
        "# (already done above)\n",
        "\n",
        "# Step 2: Create arr1 with sequential integers from 10 to 1\n",
        "arr1 = np.arange(10, 0, -1)\n",
        "\n",
        "# Step 3: Create arr2 with integers from 1 to 10\n",
        "arr2 = np.arange(1, 11)\n",
        "\n",
        "# Step 4: Perform element-wise subtraction\n",
        "result = arr1 - arr2\n",
        "\n",
        "# Print the arrays and the result\n",
        "print(\"arr1:\", arr1)\n",
        "print(\"arr2:\", arr2)\n",
        "print(\"result:\", result)\n"
      ],
      "metadata": {
        "colab": {
          "base_uri": "https://localhost:8080/"
        },
        "id": "9g6PzP7DinGC",
        "outputId": "717e04de-ec89-4f9c-a54d-d315f3971066"
      },
      "execution_count": null,
      "outputs": [
        {
          "output_type": "stream",
          "name": "stdout",
          "text": [
            "arr1: [10  9  8  7  6  5  4  3  2  1]\n",
            "arr2: [ 1  2  3  4  5  6  7  8  9 10]\n",
            "result: [ 9  7  5  3  1 -1 -3 -5 -7 -9]\n"
          ]
        }
      ]
    },
    {
      "cell_type": "code",
      "source": [
        "# 64. Create two matrices and perform matrix multiplication using NumPy's `dot` function.\n"
      ],
      "metadata": {
        "id": "_IyvCXmuin9e"
      },
      "execution_count": null,
      "outputs": []
    },
    {
      "cell_type": "code",
      "source": [
        "import numpy as np\n",
        "arr1 = np.random.randint(1,2,(3,3))\n",
        "arr2 = np.random.randint(1,2,(3,3))\n",
        "\n",
        "arr = np.dot(arr1,arr2)"
      ],
      "metadata": {
        "id": "fvew_ZjKjM8m"
      },
      "execution_count": null,
      "outputs": []
    },
    {
      "cell_type": "code",
      "source": [
        "arr"
      ],
      "metadata": {
        "colab": {
          "base_uri": "https://localhost:8080/"
        },
        "id": "fsCa7cyoqV6-",
        "outputId": "2693c6fc-22cb-4ec1-d1d7-9644a5866fe9"
      },
      "execution_count": null,
      "outputs": [
        {
          "output_type": "execute_result",
          "data": {
            "text/plain": [
              "array([[3, 3, 3],\n",
              "       [3, 3, 3],\n",
              "       [3, 3, 3]])"
            ]
          },
          "metadata": {},
          "execution_count": 5
        }
      ]
    },
    {
      "cell_type": "code",
      "source": [
        "arr1@ arr2"
      ],
      "metadata": {
        "colab": {
          "base_uri": "https://localhost:8080/"
        },
        "id": "qhsV8YE0sHKa",
        "outputId": "c02c3d7c-b6a7-4dea-ba56-28cbb398fb3f"
      },
      "execution_count": null,
      "outputs": [
        {
          "output_type": "execute_result",
          "data": {
            "text/plain": [
              "array([[3, 3, 3],\n",
              "       [3, 3, 3],\n",
              "       [3, 3, 3]])"
            ]
          },
          "metadata": {},
          "execution_count": 9
        }
      ]
    },
    {
      "cell_type": "code",
      "source": [
        "# 65. Create an array of 50 integers between 10 and 1000. Calculate the 10th, 50th (median), and 90th\n",
        "# percentiles along with the first and third quartiles"
      ],
      "metadata": {
        "id": "CmQTcBEIqphg"
      },
      "execution_count": null,
      "outputs": []
    },
    {
      "cell_type": "code",
      "source": [
        "import numpy as np\n",
        "\n",
        "# Create an array of 50 random integers between 10 and 1000\n",
        "array = np.random.randint(10, 1001, 50)\n",
        "\n",
        "# Calculate the 10th, 50th (median), and 90th percentiles\n",
        "percentile_10 = np.percentile(array, 10)\n",
        "percentile_50 = np.median(array)\n",
        "percentile_90 = np.percentile(array, 90)\n",
        "\n",
        "# Calculate the first (25th percentile) and third (75th percentile) quartiles\n",
        "first_quartile = np.percentile(array, 25)\n",
        "third_quartile = np.percentile(array, 75)\n",
        "\n",
        "# Print the results\n",
        "print(\"Array of 50 integers between 10 and 1000:\")\n",
        "print(array)\n",
        "\n",
        "print(\"\\n10th percentile:\", percentile_10)\n",
        "print(\"50th percentile (Median):\", percentile_50)\n",
        "print(\"90th percentile:\", percentile_90)\n",
        "print(\"First quartile (25th percentile):\", first_quartile)\n",
        "print(\"Third quartile (75th percentile):\", third_quartile)\n"
      ],
      "metadata": {
        "colab": {
          "base_uri": "https://localhost:8080/"
        },
        "id": "y9rMObqitb_x",
        "outputId": "f9b991f7-bf65-4c30-e39e-76ba4fac8df8"
      },
      "execution_count": null,
      "outputs": [
        {
          "output_type": "stream",
          "name": "stdout",
          "text": [
            "Array of 50 integers between 10 and 1000:\n",
            "[542 648 123 669 389 552 288 550 192 760 964 434 960 608  93 913 408 416\n",
            " 401 753 376 266 913 801 579 278 875 353 292 222 317 266 510 321  16 569\n",
            " 734 363 939 832 417 196  37 812 933 810 984 116 425 265]\n",
            "\n",
            "10th percentile: 185.10000000000002\n",
            "50th percentile (Median): 429.5\n",
            "90th percentile: 915.0\n",
            "First quartile (25th percentile): 289.0\n",
            "Third quartile (75th percentile): 758.25\n"
          ]
        }
      ]
    },
    {
      "cell_type": "code",
      "source": [
        "#66. Create a NumPy array of integers and find the index of a specific element."
      ],
      "metadata": {
        "id": "6MqEslet9-_d"
      },
      "execution_count": null,
      "outputs": []
    },
    {
      "cell_type": "code",
      "source": [
        "import numpy as np\n",
        "array = np.array([10, 20, 30, 40, 50])\n",
        "element_to_find = 30\n",
        "indices = np.where(array == element_to_find)\n",
        "\n",
        "print(\"Index of element\", element_to_find, \"is:\", indices[0][0])\n"
      ],
      "metadata": {
        "id": "qctpLWuJ-JZN",
        "colab": {
          "base_uri": "https://localhost:8080/"
        },
        "outputId": "2e865f6c-a4aa-40a8-b0f5-c2189465d185"
      },
      "execution_count": 2,
      "outputs": [
        {
          "output_type": "stream",
          "name": "stdout",
          "text": [
            "Index of element 30 is: 2\n"
          ]
        }
      ]
    },
    {
      "cell_type": "code",
      "source": [
        "# 67. Generate a random NumPy array and sort it in ascending order"
      ],
      "metadata": {
        "id": "ik3mKf9y_lFa"
      },
      "execution_count": 3,
      "outputs": []
    },
    {
      "cell_type": "code",
      "source": [
        "import numpy as np\n",
        "\n",
        "random_array = np.random.rand(10)\n",
        "\n",
        "print(\"Random array:\", random_array)\n",
        "\n",
        "sorted_array = np.sort(random_array)\n",
        "\n",
        "print(\"Sorted array:\", sorted_array)\n"
      ],
      "metadata": {
        "colab": {
          "base_uri": "https://localhost:8080/"
        },
        "id": "7uIeoYVzBw7d",
        "outputId": "82428ece-1eab-4fea-809c-632b919621c8"
      },
      "execution_count": 4,
      "outputs": [
        {
          "output_type": "stream",
          "name": "stdout",
          "text": [
            "Random array: [0.8593047  0.07613587 0.12774108 0.22048426 0.54497822 0.06483213\n",
            " 0.07321143 0.00125436 0.12034319 0.71650041]\n",
            "Sorted array: [0.00125436 0.06483213 0.07321143 0.07613587 0.12034319 0.12774108\n",
            " 0.22048426 0.54497822 0.71650041 0.8593047 ]\n"
          ]
        }
      ]
    },
    {
      "cell_type": "code",
      "source": [
        "# 68. Filter elements >20 in the given NumPy array.\n",
        "arr = np.array([12, 25, 6, 42, 8, 30])"
      ],
      "metadata": {
        "id": "g-ICF0zTCB5A"
      },
      "execution_count": 5,
      "outputs": []
    },
    {
      "cell_type": "code",
      "source": [
        "import numpy as np\n",
        "\n",
        "arr = np.array([12, 25, 6, 42, 8, 30])\n",
        "\n",
        "filtered_arr = arr[arr > 20]\n",
        "\n",
        "\n",
        "print(\"Filtered array (elements > 20):\", filtered_arr)\n"
      ],
      "metadata": {
        "colab": {
          "base_uri": "https://localhost:8080/"
        },
        "id": "XyyHncTvCMBd",
        "outputId": "05787f84-8fa7-4cf6-be73-11f5291b9eb9"
      },
      "execution_count": 6,
      "outputs": [
        {
          "output_type": "stream",
          "name": "stdout",
          "text": [
            "Filtered array (elements > 20): [25 42 30]\n"
          ]
        }
      ]
    },
    {
      "cell_type": "code",
      "source": [
        "# 69. Filter elements which are divisible by 3 from a given NumPy array.\n",
        "arr = np.array([1, 5, 8, 12, 15])"
      ],
      "metadata": {
        "id": "-eBWEb_3Cdlt"
      },
      "execution_count": 9,
      "outputs": []
    },
    {
      "cell_type": "code",
      "source": [
        "import numpy as np\n",
        "\n",
        "arr = np.array([1, 5, 8, 12, 15])\n",
        "\n",
        "filtered_arr = arr[arr % 3 == 0]\n",
        "\n",
        "\n",
        "print(\"Filtered array (elements divisible by 3):\", filtered_arr)\n",
        "\n"
      ],
      "metadata": {
        "colab": {
          "base_uri": "https://localhost:8080/"
        },
        "id": "w2wp1YT7F9mQ",
        "outputId": "aa52ab6b-7591-4491-d882-35051d45b9ec"
      },
      "execution_count": 11,
      "outputs": [
        {
          "output_type": "stream",
          "name": "stdout",
          "text": [
            "Filtered array (elements divisible by 3): [12 15]\n"
          ]
        }
      ]
    },
    {
      "cell_type": "code",
      "source": [
        "# 70. Filter elements which are ≥ 20 and ≤ 40 from a given NumPy array.\n",
        "arr = np.array([10, 20, 30, 40, 50])"
      ],
      "metadata": {
        "id": "jbQWxZ9mGAxh"
      },
      "execution_count": 12,
      "outputs": []
    },
    {
      "cell_type": "code",
      "source": [
        "import numpy as np\n",
        "\n",
        "arr = np.array([10, 20, 30, 40, 50])\n",
        "\n",
        "filtered_arr = arr[(arr >= 20) & (arr <= 40)]\n",
        "\n",
        "print(\"Filtered array (elements ≥ 20 and ≤ 40):\", filtered_arr)\n"
      ],
      "metadata": {
        "colab": {
          "base_uri": "https://localhost:8080/"
        },
        "id": "csR3FvviGYs5",
        "outputId": "a601b9e5-e9d5-461e-ecd1-59a91a2a9464"
      },
      "execution_count": 13,
      "outputs": [
        {
          "output_type": "stream",
          "name": "stdout",
          "text": [
            "Filtered array (elements ≥ 20 and ≤ 40): [20 30 40]\n"
          ]
        }
      ]
    },
    {
      "cell_type": "code",
      "source": [
        "# 71. For the given NumPy array, check its byte order using the `dtype` attribute byteorder\n",
        "arr = np.array([1, 2, 3])"
      ],
      "metadata": {
        "id": "YkQdc7njGhCY"
      },
      "execution_count": 14,
      "outputs": []
    },
    {
      "cell_type": "code",
      "source": [
        "import numpy as np\n",
        "\n",
        "arr = np.array([1, 2, 3])\n",
        "\n",
        "byte_order = arr.dtype.byteorder\n",
        "\n",
        "print(\"Byte order of the array:\", byte_order)\n"
      ],
      "metadata": {
        "colab": {
          "base_uri": "https://localhost:8080/"
        },
        "id": "sMOyVLGIGpVz",
        "outputId": "7dd27d81-ab95-4547-850b-a5da81117f63"
      },
      "execution_count": 15,
      "outputs": [
        {
          "output_type": "stream",
          "name": "stdout",
          "text": [
            "Byte order of the array: =\n"
          ]
        }
      ]
    },
    {
      "cell_type": "code",
      "source": [
        "# 72. For the given NumPy array, perform byte swapping in place using `byteswap()`.\n",
        "arr = np.array([1, 2, 3], dtype=np.int32)"
      ],
      "metadata": {
        "id": "1vnRV0HVHzA8"
      },
      "execution_count": 16,
      "outputs": []
    },
    {
      "cell_type": "code",
      "source": [
        "import numpy as np\n",
        "\n",
        "arr = np.array([1, 2, 3], dtype=np.int32)\n",
        "\n",
        "arr.byteswap(True)\n",
        "\n",
        "print(\"Array after byte swapping:\", arr)\n"
      ],
      "metadata": {
        "colab": {
          "base_uri": "https://localhost:8080/"
        },
        "id": "n320oyF_IHay",
        "outputId": "57938a75-399a-4e66-ad18-388591923a94"
      },
      "execution_count": 17,
      "outputs": [
        {
          "output_type": "stream",
          "name": "stdout",
          "text": [
            "Array after byte swapping: [16777216 33554432 50331648]\n"
          ]
        }
      ]
    },
    {
      "cell_type": "code",
      "source": [
        "# 73. For the given NumPy array, swap its byte order without modifying the original array using\n",
        "#`newbyteorder()`.\n",
        "arr = np.array([1, 2, 3], dtype=np.int32)"
      ],
      "metadata": {
        "id": "8ySNIOkaIRGk"
      },
      "execution_count": 19,
      "outputs": []
    },
    {
      "cell_type": "code",
      "source": [
        "import numpy as np\n",
        "\n",
        "arr = np.array([1, 2, 3], dtype=np.int32)\n",
        "\n",
        "swapped_arr = arr.newbyteorder()\n",
        "\n",
        "print(\"Original array:\", arr)\n",
        "print(\"Swapped array:\", swapped_arr)\n"
      ],
      "metadata": {
        "colab": {
          "base_uri": "https://localhost:8080/"
        },
        "id": "-xMkZchoIrln",
        "outputId": "71d7e455-0cca-4aa8-c98f-7a5b6a9e0a5d"
      },
      "execution_count": 20,
      "outputs": [
        {
          "output_type": "stream",
          "name": "stdout",
          "text": [
            "Original array: [1 2 3]\n",
            "Swapped array: [16777216 33554432 50331648]\n"
          ]
        }
      ]
    },
    {
      "cell_type": "code",
      "source": [
        "# 74. For the given NumPy array and swap its byte order conditionally based on system endianness using\n",
        "# `newbyteorder()`.\n",
        "arr = np.array([1, 2, 3], dtype=np.int32)"
      ],
      "metadata": {
        "id": "mZW0wnFRI2ZP"
      },
      "execution_count": 21,
      "outputs": []
    },
    {
      "cell_type": "code",
      "source": [
        "import numpy as np\n",
        "\n",
        "arr = np.array([1, 2, 3], dtype=np.int32)\n",
        "\n",
        "swapped_arr = arr.newbyteorder()\n",
        "\n",
        "print(\"Original array:\", arr)\n",
        "print(\"Swapped array (conditionally based on system endianness):\", swapped_arr)\n"
      ],
      "metadata": {
        "colab": {
          "base_uri": "https://localhost:8080/"
        },
        "id": "VBcJL5_0JABf",
        "outputId": "0b8af011-c157-43c4-9489-a38e2cbb17e8"
      },
      "execution_count": 22,
      "outputs": [
        {
          "output_type": "stream",
          "name": "stdout",
          "text": [
            "Original array: [1 2 3]\n",
            "Swapped array (conditionally based on system endianness): [16777216 33554432 50331648]\n"
          ]
        }
      ]
    },
    {
      "cell_type": "code",
      "source": [
        "# 75. For the given NumPy array, check if byte swapping is necessary for the current system using `dtype`\n",
        "# attribute `byteorder`.\n",
        "arr = np.array([1, 2, 3], dtype=np.int32)"
      ],
      "metadata": {
        "id": "abDhxCRsJQ5T"
      },
      "execution_count": 23,
      "outputs": []
    },
    {
      "cell_type": "code",
      "source": [
        "import numpy as np\n",
        "\n",
        "arr = np.array([1, 2, 3], dtype=np.int32)\n",
        "\n",
        "system_byteorder = arr.dtype.byteorder\n",
        "native_byteorder = np.dtype(np.int32).byteorder\n",
        "byte_swapping_needed = system_byteorder != native_byteorder\n",
        "\n",
        "print(\"Byte order of the system:\", system_byteorder)\n",
        "print(\"Native byte order of the data type:\", native_byteorder)\n",
        "\n",
        "if byte_swapping_needed:\n",
        "    print(\"Byte swapping is necessary for the current system.\")\n",
        "else:\n",
        "    print(\"Byte swapping is not necessary for the current system.\")\n"
      ],
      "metadata": {
        "colab": {
          "base_uri": "https://localhost:8080/"
        },
        "id": "jOhpGzMdJpfD",
        "outputId": "f132d612-05fb-4fa2-fef4-f707f828dacd"
      },
      "execution_count": 24,
      "outputs": [
        {
          "output_type": "stream",
          "name": "stdout",
          "text": [
            "Byte order of the system: =\n",
            "Native byte order of the data type: =\n",
            "Byte swapping is not necessary for the current system.\n"
          ]
        }
      ]
    },
    {
      "cell_type": "code",
      "source": [
        "# 76. Create a NumPy array `arr1` with values from 1 to 10. Create a copy of\n",
        "# `arr1` named `copy_arr` and modify\n",
        "#an element in `copy_arr`. Check if modifying `copy_arr` affects `arr1`."
      ],
      "metadata": {
        "id": "DcTL4J-yJueM"
      },
      "execution_count": 25,
      "outputs": []
    },
    {
      "cell_type": "code",
      "source": [
        "import numpy as np\n",
        "\n",
        "arr1 = np.arange(1, 11)\n",
        "\n",
        "\n",
        "copy_arr = arr1.copy()\n",
        "\n",
        "\n",
        "copy_arr[0] = 100\n",
        "\n",
        "\n",
        "print(\"Original array arr1:\", arr1)\n",
        "print(\"Modified copy_arr:\", copy_arr)\n"
      ],
      "metadata": {
        "colab": {
          "base_uri": "https://localhost:8080/"
        },
        "id": "YDJGDxfaSNwk",
        "outputId": "8dbd5503-6e08-4cd7-856f-185c7f19fc50"
      },
      "execution_count": 26,
      "outputs": [
        {
          "output_type": "stream",
          "name": "stdout",
          "text": [
            "Original array arr1: [ 1  2  3  4  5  6  7  8  9 10]\n",
            "Modified copy_arr: [100   2   3   4   5   6   7   8   9  10]\n"
          ]
        }
      ]
    },
    {
      "cell_type": "code",
      "source": [
        "# 77. Create a 2D NumPy array `matrix` of shape (3, 3) with random integers. Extract a slice `view_slice` from\n",
        "# the matrix. Modify an element in `view_slice` and observe if it changes the original `matrix"
      ],
      "metadata": {
        "id": "nN6sj-mGSTIi"
      },
      "execution_count": 27,
      "outputs": []
    },
    {
      "cell_type": "code",
      "source": [
        "import numpy as np\n",
        "\n",
        "matrix = np.random.randint(1, 100, size=(3, 3))\n",
        "\n",
        "view_slice = matrix[1:, 1:]\n",
        "\n",
        "print(\"Original matrix:\")\n",
        "print(matrix)\n",
        "print(\"\\nSlice view_slice:\")\n",
        "print(view_slice)\n",
        "\n",
        "view_slice[0, 0] = 999\n",
        "\n",
        "print(\"\\nAfter modifying view_slice:\")\n",
        "print(\"Original matrix:\")\n",
        "print(matrix)\n",
        "print(\"\\nSlice view_slice:\")\n",
        "print(view_slice)\n"
      ],
      "metadata": {
        "colab": {
          "base_uri": "https://localhost:8080/"
        },
        "id": "VUO0Voc-SazY",
        "outputId": "770d7b6a-a9e6-43d6-aa27-3f46d2a65330"
      },
      "execution_count": 28,
      "outputs": [
        {
          "output_type": "stream",
          "name": "stdout",
          "text": [
            "Original matrix:\n",
            "[[12 24 34]\n",
            " [98  9 50]\n",
            " [54 25 41]]\n",
            "\n",
            "Slice view_slice:\n",
            "[[ 9 50]\n",
            " [25 41]]\n",
            "\n",
            "After modifying view_slice:\n",
            "Original matrix:\n",
            "[[ 12  24  34]\n",
            " [ 98 999  50]\n",
            " [ 54  25  41]]\n",
            "\n",
            "Slice view_slice:\n",
            "[[999  50]\n",
            " [ 25  41]]\n"
          ]
        }
      ]
    },
    {
      "cell_type": "code",
      "source": [
        "# 78. Create a NumPy array `array_a` of shape (4, 3) with sequential integers from 1 to 12. Extract a slice\n",
        "# `view_b` from `array_a` and broadcast the addition of 5 to view_b. Check if it alters the original `array_a"
      ],
      "metadata": {
        "id": "1z26ur6ZSsOj"
      },
      "execution_count": 29,
      "outputs": []
    },
    {
      "cell_type": "code",
      "source": [
        "import numpy as np\n",
        "\n",
        "array_a = np.arange(1, 13).reshape(4, 3)\n",
        "\n",
        "view_b = array_a[1:3, 1:3]\n",
        "\n",
        "\n",
        "view_b += 5\n",
        "\n",
        "\n",
        "print(\"Original array array_a:\")\n",
        "print(array_a)\n"
      ],
      "metadata": {
        "colab": {
          "base_uri": "https://localhost:8080/"
        },
        "id": "OlOfbOsnSzxg",
        "outputId": "b11f819c-37c6-4bb4-b3f3-964fd72ce935"
      },
      "execution_count": 30,
      "outputs": [
        {
          "output_type": "stream",
          "name": "stdout",
          "text": [
            "Original array array_a:\n",
            "[[ 1  2  3]\n",
            " [ 4 10 11]\n",
            " [ 7 13 14]\n",
            " [10 11 12]]\n"
          ]
        }
      ]
    },
    {
      "cell_type": "code",
      "source": [
        "# 79. Create a NumPy array `orig_array` of shape (2, 4) with values from 1 to 8. Create a reshaped view\n",
        "# `reshaped_view` of shape (4, 2) from orig_array. Modify an element in `reshaped_view` and check if it\n",
        "# reflects changes in the original `orig_array`."
      ],
      "metadata": {
        "id": "46ydpM6zS7xu"
      },
      "execution_count": 31,
      "outputs": []
    },
    {
      "cell_type": "code",
      "source": [
        "import numpy as np\n",
        "\n",
        "orig_array = np.arange(1, 9).reshape(2, 4)\n",
        "reshaped_view = orig_array.reshape(4, 2)\n",
        "\n",
        "print(\"Original array orig_array:\")\n",
        "print(orig_array)\n",
        "print(\"\\nReshaped view reshaped_view:\")\n",
        "print(reshaped_view)\n",
        "\n",
        "reshaped_view[1, 1] = 999\n",
        "print(\"\\nAfter modifying reshaped_view:\")\n",
        "print(\"Original array orig_array:\")\n",
        "print(orig_array)\n",
        "print(\"\\nReshaped view reshaped_view:\")\n",
        "print(reshaped_view)\n"
      ],
      "metadata": {
        "colab": {
          "base_uri": "https://localhost:8080/"
        },
        "id": "SZV1JkuwTEhp",
        "outputId": "119c76df-8f45-4f71-8171-0d16bff37f3b"
      },
      "execution_count": 32,
      "outputs": [
        {
          "output_type": "stream",
          "name": "stdout",
          "text": [
            "Original array orig_array:\n",
            "[[1 2 3 4]\n",
            " [5 6 7 8]]\n",
            "\n",
            "Reshaped view reshaped_view:\n",
            "[[1 2]\n",
            " [3 4]\n",
            " [5 6]\n",
            " [7 8]]\n",
            "\n",
            "After modifying reshaped_view:\n",
            "Original array orig_array:\n",
            "[[  1   2   3 999]\n",
            " [  5   6   7   8]]\n",
            "\n",
            "Reshaped view reshaped_view:\n",
            "[[  1   2]\n",
            " [  3 999]\n",
            " [  5   6]\n",
            " [  7   8]]\n"
          ]
        }
      ]
    },
    {
      "cell_type": "code",
      "source": [
        "# 80. Create a NumPy array `data` of shape (3, 4) with random integers. Extract a copy `data_copy` of\n",
        "# elements greater than 5. Modify an element in `data_copy` and verify if it affects the original `data`."
      ],
      "metadata": {
        "id": "waLFWCJGTPl7"
      },
      "execution_count": 33,
      "outputs": []
    },
    {
      "cell_type": "code",
      "source": [
        "import numpy as np\n",
        "\n",
        "# Create a NumPy array data of shape (3, 4) with random integers\n",
        "data = np.random.randint(1, 10, size=(3, 4))\n",
        "\n",
        "# Extract a copy data_copy of elements greater than 5\n",
        "data_copy = data[data > 5].copy()\n",
        "\n",
        "# Print the original array and the copy\n",
        "print(\"Original array data:\")\n",
        "print(data)\n",
        "print(\"\\nCopied array data_copy:\")\n",
        "print(data_copy)\n",
        "\n",
        "# Modify an element in data_copy\n",
        "data_copy[0] = 999\n",
        "\n",
        "# Check if it affects the original data\n",
        "print(\"\\nAfter modifying data_copy:\")\n",
        "print(\"Original array data:\")\n",
        "print(data)\n",
        "print(\"\\nModified copied array data_copy:\")\n",
        "print(data_copy)\n",
        "\n"
      ],
      "metadata": {
        "colab": {
          "base_uri": "https://localhost:8080/"
        },
        "id": "hz_V8C7dTxFM",
        "outputId": "e1bce659-2c88-4cfd-b486-729ac0d1fe87"
      },
      "execution_count": 36,
      "outputs": [
        {
          "output_type": "stream",
          "name": "stdout",
          "text": [
            "Original array data:\n",
            "[[5 3 8 6]\n",
            " [8 7 3 2]\n",
            " [4 2 1 8]]\n",
            "\n",
            "Copied array data_copy:\n",
            "[8 6 8 7 8]\n",
            "\n",
            "After modifying data_copy:\n",
            "Original array data:\n",
            "[[5 3 8 6]\n",
            " [8 7 3 2]\n",
            " [4 2 1 8]]\n",
            "\n",
            "Modified copied array data_copy:\n",
            "[999   6   8   7   8]\n"
          ]
        }
      ]
    },
    {
      "cell_type": "code",
      "source": [
        "# 81. Create two matrices A and B of identical shape containing integers and perform addition and subtraction\n",
        "# operations between them.\n"
      ],
      "metadata": {
        "id": "zVOEyZ5GTyBx"
      },
      "execution_count": 37,
      "outputs": []
    },
    {
      "cell_type": "code",
      "source": [
        "import numpy as np\n",
        "\n",
        "# Create matrix A\n",
        "A = np.array([[1, 2, 3],\n",
        "              [4, 5, 6],\n",
        "              [7, 8, 9]])\n",
        "\n",
        "# Create matrix B (with the same shape as A)\n",
        "B = np.array([[9, 8, 7],\n",
        "              [6, 5, 4],\n",
        "              [3, 2, 1]])\n",
        "\n",
        "# Addition operation\n",
        "addition_result = A + B\n",
        "\n",
        "# Subtraction operation\n",
        "subtraction_result = A - B\n",
        "\n",
        "# Print the original matrices and the results of addition and subtraction\n",
        "print(\"Matrix A:\")\n",
        "print(A)\n",
        "print(\"\\nMatrix B:\")\n",
        "print(B)\n",
        "print(\"\\nAddition result (A + B):\")\n",
        "print(addition_result)\n",
        "print(\"\\nSubtraction result (A - B):\")\n",
        "print(subtraction_result)\n"
      ],
      "metadata": {
        "colab": {
          "base_uri": "https://localhost:8080/"
        },
        "id": "FCZXTADAU5xl",
        "outputId": "80e87ae4-6063-4830-c605-fd309bc8e49b"
      },
      "execution_count": 38,
      "outputs": [
        {
          "output_type": "stream",
          "name": "stdout",
          "text": [
            "Matrix A:\n",
            "[[1 2 3]\n",
            " [4 5 6]\n",
            " [7 8 9]]\n",
            "\n",
            "Matrix B:\n",
            "[[9 8 7]\n",
            " [6 5 4]\n",
            " [3 2 1]]\n",
            "\n",
            "Addition result (A + B):\n",
            "[[10 10 10]\n",
            " [10 10 10]\n",
            " [10 10 10]]\n",
            "\n",
            "Subtraction result (A - B):\n",
            "[[-8 -6 -4]\n",
            " [-2  0  2]\n",
            " [ 4  6  8]]\n"
          ]
        }
      ]
    },
    {
      "cell_type": "code",
      "source": [
        "# 82. Generate two matrices `C` (3x2) and `D` (2x4) and perform matrix multiplication."
      ],
      "metadata": {
        "id": "rIg2E0gmU7K3"
      },
      "execution_count": 39,
      "outputs": []
    },
    {
      "cell_type": "code",
      "source": [
        "import numpy as np\n",
        "\n",
        "# Generate matrix C (3x2)\n",
        "C = np.array([[1, 2],\n",
        "              [3, 4],\n",
        "              [5, 6]])\n",
        "\n",
        "# Generate matrix D (2x4)\n",
        "D = np.array([[7, 8, 9, 10],\n",
        "              [11, 12, 13, 14]])\n",
        "\n",
        "# Perform matrix multiplication\n",
        "multiplication_result = np.dot(C, D)\n",
        "\n",
        "# Print the matrices and the result of matrix multiplication\n",
        "print(\"Matrix C:\")\n",
        "print(C)\n",
        "print(\"\\nMatrix D:\")\n",
        "print(D)\n",
        "print(\"\\nResult of matrix multiplication (C * D):\")\n",
        "print(multiplication_result)\n"
      ],
      "metadata": {
        "colab": {
          "base_uri": "https://localhost:8080/"
        },
        "id": "TX4M_dF2VA_N",
        "outputId": "ed082a1d-0046-4571-c786-4fbb22a7f0c9"
      },
      "execution_count": 40,
      "outputs": [
        {
          "output_type": "stream",
          "name": "stdout",
          "text": [
            "Matrix C:\n",
            "[[1 2]\n",
            " [3 4]\n",
            " [5 6]]\n",
            "\n",
            "Matrix D:\n",
            "[[ 7  8  9 10]\n",
            " [11 12 13 14]]\n",
            "\n",
            "Result of matrix multiplication (C * D):\n",
            "[[ 29  32  35  38]\n",
            " [ 65  72  79  86]\n",
            " [101 112 123 134]]\n"
          ]
        }
      ]
    },
    {
      "cell_type": "code",
      "source": [
        "# 83. Create a matrix `E` and find its transpose."
      ],
      "metadata": {
        "id": "rIJPSN8EVGKq"
      },
      "execution_count": 41,
      "outputs": []
    },
    {
      "cell_type": "code",
      "source": [
        "import numpy as np\n",
        "\n",
        "# Create matrix E\n",
        "E = np.array([[1, 2, 3],\n",
        "              [4, 5, 6],\n",
        "              [7, 8, 9]])\n",
        "\n",
        "# Find the transpose of matrix E\n",
        "E_transpose = np.transpose(E)\n",
        "\n",
        "# Print the original matrix and its transpose\n",
        "print(\"Matrix E:\")\n",
        "print(E)\n",
        "print(\"\\nTranspose of matrix E:\")\n",
        "print(E_transpose)\n"
      ],
      "metadata": {
        "colab": {
          "base_uri": "https://localhost:8080/"
        },
        "id": "yJGLgiPAVK9u",
        "outputId": "8136e6d8-5943-4e9e-e69d-f79937846f2f"
      },
      "execution_count": 42,
      "outputs": [
        {
          "output_type": "stream",
          "name": "stdout",
          "text": [
            "Matrix E:\n",
            "[[1 2 3]\n",
            " [4 5 6]\n",
            " [7 8 9]]\n",
            "\n",
            "Transpose of matrix E:\n",
            "[[1 4 7]\n",
            " [2 5 8]\n",
            " [3 6 9]]\n"
          ]
        }
      ]
    },
    {
      "cell_type": "code",
      "source": [
        "# 84. Generate a square matrix `F` and compute its determinant."
      ],
      "metadata": {
        "id": "fvqjfNevVVrW"
      },
      "execution_count": 43,
      "outputs": []
    },
    {
      "cell_type": "code",
      "source": [
        "import numpy as np\n",
        "\n",
        "# Generate a square matrix F\n",
        "F = np.array([[1, 2, 3],\n",
        "              [4, 5, 6],\n",
        "              [7, 8, 9]])\n",
        "\n",
        "# Compute the determinant of matrix F\n",
        "determinant_F = np.linalg.det(F)\n",
        "\n",
        "# Print the matrix F and its determinant\n",
        "print(\"Matrix F:\")\n",
        "print(F)\n",
        "print(\"\\nDeterminant of matrix F:\", determinant_F)\n"
      ],
      "metadata": {
        "colab": {
          "base_uri": "https://localhost:8080/"
        },
        "id": "FA_tnZTeVojz",
        "outputId": "07aae74e-8d06-46ef-9916-074623884f20"
      },
      "execution_count": 44,
      "outputs": [
        {
          "metadata": {
            "tags": null
          },
          "name": "stdout",
          "output_type": "stream",
          "text": [
            "Matrix F:\n",
            "[[1 2 3]\n",
            " [4 5 6]\n",
            " [7 8 9]]\n",
            "\n",
            "Determinant of matrix F: 0.0\n"
          ]
        }
      ]
    },
    {
      "cell_type": "code",
      "source": [
        "# 85. Create a square matrix `G` and find its inverse."
      ],
      "metadata": {
        "id": "6T5LBcBbVtot"
      },
      "execution_count": null,
      "outputs": []
    },
    {
      "cell_type": "code",
      "source": [
        "import numpy as np\n",
        "\n",
        "# Create a square matrix G\n",
        "G = np.array([[1, 2],\n",
        "              [3, 4]])\n",
        "\n",
        "# Find the inverse of matrix G\n",
        "inverse_G = np.linalg.inv(G)\n",
        "\n",
        "# Print the original matrix and its inverse\n",
        "print(\"Matrix G:\")\n",
        "print(G)\n",
        "print(\"\\nInverse of matrix G:\")\n",
        "print(inverse_G)\n"
      ],
      "metadata": {
        "colab": {
          "base_uri": "https://localhost:8080/"
        },
        "id": "4dDb85xfV9hp",
        "outputId": "20fdb1a9-8019-43ed-8627-cb52ac5ac9f4"
      },
      "execution_count": 45,
      "outputs": [
        {
          "output_type": "stream",
          "name": "stdout",
          "text": [
            "Matrix G:\n",
            "[[1 2]\n",
            " [3 4]]\n",
            "\n",
            "Inverse of matrix G:\n",
            "[[-2.   1. ]\n",
            " [ 1.5 -0.5]]\n"
          ]
        }
      ]
    },
    {
      "cell_type": "code",
      "source": [],
      "metadata": {
        "id": "ihOiRyslWF7L"
      },
      "execution_count": null,
      "outputs": []
    }
  ]
}