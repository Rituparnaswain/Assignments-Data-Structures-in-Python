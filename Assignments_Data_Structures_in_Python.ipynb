{
  "nbformat": 4,
  "nbformat_minor": 0,
  "metadata": {
    "colab": {
      "provenance": [],
      "authorship_tag": "ABX9TyMZv/E5MrMhqyeHzIcMKkCZ",
      "include_colab_link": true
    },
    "kernelspec": {
      "name": "python3",
      "display_name": "Python 3"
    },
    "language_info": {
      "name": "python"
    }
  },
  "cells": [
    {
      "cell_type": "markdown",
      "metadata": {
        "id": "view-in-github",
        "colab_type": "text"
      },
      "source": [
        "<a href=\"https://colab.research.google.com/github/Rituparnaswain/Assignments-Data-Structures-in-Python/blob/main/Assignments_Data_Structures_in_Python.ipynb\" target=\"_parent\"><img src=\"https://colab.research.google.com/assets/colab-badge.svg\" alt=\"Open In Colab\"/></a>"
      ]
    },
    {
      "cell_type": "code",
      "execution_count": null,
      "metadata": {
        "id": "hNapoMl2tJqh"
      },
      "outputs": [],
      "source": [
        "# 1. Write a code to reverse a string?\n"
      ]
    },
    {
      "cell_type": "code",
      "source": [
        "# Create a Function\n",
        "# If you like to have a function where you can send your strings, and return them backwards, you can create a function\n",
        "\n",
        "def my_function(x):\n",
        "  return x[::-1]\n",
        "\n",
        "mytxt = my_function(\"I wonder how this text looks like backwards\")\n",
        "\n",
        "print(mytxt)"
      ],
      "metadata": {
        "colab": {
          "base_uri": "https://localhost:8080/"
        },
        "id": "MEkaXDMWuuoe",
        "outputId": "e0f10ec0-5c2f-45b7-a462-2487a6d42bc5"
      },
      "execution_count": null,
      "outputs": [
        {
          "output_type": "stream",
          "name": "stdout",
          "text": [
            "sdrawkcab ekil skool txet siht woh rednow I\n"
          ]
        }
      ]
    },
    {
      "cell_type": "code",
      "source": [
        "# 2.Write a code to count the number of vowels in a string ?\n",
        "\n",
        "#Count the Number of Vowels using Python count()\n",
        "\n",
        "string = \"my favourite fruit is apple\"\n",
        "vowels = \"aeiouAEIOU\"\n",
        "\n",
        "count = sum(string.count(vowel) for vowel in vowels)\n",
        "print(count)\n"
      ],
      "metadata": {
        "colab": {
          "base_uri": "https://localhost:8080/"
        },
        "id": "VvwEZzGGvLqg",
        "outputId": "4cfdafa0-7eff-4986-da62-0a9687117aec"
      },
      "execution_count": null,
      "outputs": [
        {
          "output_type": "stream",
          "name": "stdout",
          "text": [
            "10\n"
          ]
        }
      ]
    },
    {
      "cell_type": "code",
      "source": [
        "# 3. Write a code to check if a given string is a palindrome or not ?\n",
        "\n",
        "# Python Program to Check if a String is Palindrome or Not Using Native Approach\n",
        "\n",
        "def is_palindrome(string):\n",
        "    # Removing spaces and punctuation, and converting to lowercase\n",
        "    cleaned_string = ''.join(char.lower() for char in string if char.isalnum())\n",
        "\n",
        "    # Checking if the cleaned string is equal to its reverse\n",
        "    return cleaned_string == cleaned_string[::-1]\n",
        "\n",
        "# Example string\n",
        "input_string = \"A man, a plan, a canal, Panama!\"\n",
        "\n",
        "# Checking if the string is a palindrome\n",
        "result = is_palindrome(input_string)\n",
        "print(\"Is the string a palindrome?\", result)"
      ],
      "metadata": {
        "id": "OAqTC1WYx6ah",
        "colab": {
          "base_uri": "https://localhost:8080/"
        },
        "outputId": "96c04f91-e0d6-4616-8a54-0707074c9076"
      },
      "execution_count": null,
      "outputs": [
        {
          "output_type": "stream",
          "name": "stdout",
          "text": [
            "Is the string a palindrome? True\n"
          ]
        }
      ]
    },
    {
      "cell_type": "code",
      "source": [
        "#  4. write a code to check if two given strings are anagrams of each other\n",
        "\n",
        "# Using sorted() function\n",
        "\n",
        "\n",
        "def are_anagrams(str1, str2):\n",
        "    # Removing spaces and converting to lowercase\n",
        "    str1 = str1.replace(\" \", \"\").lower()\n",
        "    str2 = str2.replace(\" \", \"\").lower()\n",
        "\n",
        "    # Check if the lengths are different\n",
        "    if len(str1) != len(str2):\n",
        "        return False\n",
        "\n",
        "    # Sorting the characters in both strings and comparing\n",
        "    return sorted(str1) == sorted(str2)\n",
        "\n",
        "# Example strings\n",
        "string1 = \"listen\"\n",
        "string2 = \"silent\"\n",
        "\n",
        "# Checking if the strings are anagrams\n",
        "result = are_anagrams(string1, string2)\n",
        "print(\"Are the strings anagrams?\", result)"
      ],
      "metadata": {
        "id": "7GtwrTETz0ll",
        "colab": {
          "base_uri": "https://localhost:8080/"
        },
        "outputId": "cdde3596-5a2a-42ba-c4a8-71b88045489b"
      },
      "execution_count": null,
      "outputs": [
        {
          "output_type": "stream",
          "name": "stdout",
          "text": [
            "Are the strings anagrams? True\n"
          ]
        }
      ]
    },
    {
      "cell_type": "code",
      "source": [
        "# 5.Write a code to find all occurrences of a given substring within another string ?\n",
        "# Get all occurrences of a Substring in a String using startswith\n"
      ],
      "metadata": {
        "id": "lAagdOiv01qN"
      },
      "execution_count": null,
      "outputs": []
    },
    {
      "cell_type": "code",
      "source": [
        "test_str = \"Pwskills is best for data analyst program\"\n",
        "test_sub = \"Pwskills\"\n",
        "print(\"The original string is : \" + test_str)\n",
        "print(\"The substring to find : \" + test_sub)\n",
        "res = [i for i in range(len(test_str)) if test_str.startswith(test_sub, i)]\n",
        "print(\"The start indices of the substrings are : \" + str(res))"
      ],
      "metadata": {
        "colab": {
          "base_uri": "https://localhost:8080/"
        },
        "id": "HY3zsnapjvQt",
        "outputId": "2554f69b-65d3-479d-89ce-7cdeb99d499d"
      },
      "execution_count": null,
      "outputs": [
        {
          "output_type": "stream",
          "name": "stdout",
          "text": [
            "The original string is : Pwskills is best for data analyst program\n",
            "The substring to find : Pwskills\n",
            "The start indices of the substrings are : [0]\n"
          ]
        }
      ]
    },
    {
      "cell_type": "code",
      "source": [
        "# 6 Write a code to perform basic string compression using the counts of repeated characters.\n",
        "\n",
        "def compression(s1):\n",
        "    sb = []\n",
        "    count = 1\n",
        "    prev = s1[0]\n",
        "    for i in range(1, len(s1)):\n",
        "        curr = s1[i]\n",
        "        if prev == curr:\n",
        "            count += 1\n",
        "        else:\n",
        "            sb.append(prev)\n",
        "            sb.append(str(count))\n",
        "            prev = curr\n",
        "            count = 1\n",
        "    sb.append(prev)\n",
        "    sb.append(str(count))\n",
        "    compressed = ''.join(sb)\n",
        "    if len(s1) < len(compressed):\n",
        "        return s1\n",
        "    else:\n",
        "        return compressed\n",
        "\n",
        "if __name__ == \"__main__\":\n",
        "    s1 = \"tttttuuuutorrrriaaaaalllllll\"\n",
        "    print(\"Compression of\", s1, \"is:\", compression(s1))\n",
        "    s1 = \"horizonn\"\n",
        "    print(\"Compression of\", s1, \"is:\", compression(s1))"
      ],
      "metadata": {
        "id": "R93njrWv39hR",
        "colab": {
          "base_uri": "https://localhost:8080/"
        },
        "outputId": "ed8b4999-0616-4846-8cd0-fb17f4588173"
      },
      "execution_count": null,
      "outputs": [
        {
          "output_type": "stream",
          "name": "stdout",
          "text": [
            "Compression of tttttuuuutorrrriaaaaalllllll is: t5u4t1o1r4i1a5l7\n",
            "Compression of horizonn is: horizonn\n"
          ]
        }
      ]
    },
    {
      "cell_type": "code",
      "source": [
        "# 7 Write a code to determine if a string has all unique characters.\n",
        "\n",
        "\n",
        "MAX_CHAR = 256;\n",
        "\n",
        "def uniqueCharacters(string):\n",
        "    n = len(string)\n",
        "\n",
        "    # If length is greater than 256,\n",
        "    # some characters must have\n",
        "    # been repeated\n",
        "    if n > MAX_CHAR:\n",
        "        return False\n",
        "\n",
        "    chars = [False] * MAX_CHAR\n",
        "\n",
        "    for i in range(n):\n",
        "        index = ord(string[i])\n",
        "\n",
        "        '''\n",
        "         * If the value is already True,\n",
        "         string has duplicate characters,\n",
        "         return False'''\n",
        "        if (chars[index] == True):\n",
        "            return False\n",
        "\n",
        "        chars[index] = True\n",
        "\n",
        "    ''' No duplicates encountered,\n",
        "        return True '''\n",
        "    return True\n",
        "\n",
        "# Driver code\n",
        "if __name__ == '__main__':\n",
        "\n",
        "    input = \"PWSKILLS\"\n",
        "    if (uniqueCharacters(input)):\n",
        "        print(\"The String\", input,\n",
        "              \"has all unique characters\")\n",
        "    else:\n",
        "        print(\"The String\", input,\n",
        "              \"has duplicate characters\")\n",
        "\n"
      ],
      "metadata": {
        "colab": {
          "base_uri": "https://localhost:8080/"
        },
        "id": "Yn1r36N8mlKr",
        "outputId": "70156585-9522-4741-d445-2da2a649d382"
      },
      "execution_count": null,
      "outputs": [
        {
          "output_type": "stream",
          "name": "stdout",
          "text": [
            "The String PWSKILLS has duplicate characters\n"
          ]
        }
      ]
    },
    {
      "cell_type": "code",
      "source": [
        "#  8.Write a code to convert a given string to uppercase or lowercase?\n",
        "\n",
        "\n",
        "s = (\"PWskills is best for data analyst\")\n"
      ],
      "metadata": {
        "id": "TcT8PyBrxHLc"
      },
      "execution_count": null,
      "outputs": []
    },
    {
      "cell_type": "code",
      "source": [
        "s"
      ],
      "metadata": {
        "colab": {
          "base_uri": "https://localhost:8080/",
          "height": 35
        },
        "id": "kk3p9-ET1262",
        "outputId": "99bd6df9-ba63-405d-8e62-4e38a49bdb75"
      },
      "execution_count": null,
      "outputs": [
        {
          "output_type": "execute_result",
          "data": {
            "text/plain": [
              "'PWskills is best for data analyst'"
            ],
            "application/vnd.google.colaboratory.intrinsic+json": {
              "type": "string"
            }
          },
          "metadata": {},
          "execution_count": 30
        }
      ]
    },
    {
      "cell_type": "code",
      "source": [
        "s.upper()"
      ],
      "metadata": {
        "colab": {
          "base_uri": "https://localhost:8080/",
          "height": 35
        },
        "id": "CA2gE0Ha2MoB",
        "outputId": "49660517-8ae6-40fa-ce8a-b396dcc14bde"
      },
      "execution_count": null,
      "outputs": [
        {
          "output_type": "execute_result",
          "data": {
            "text/plain": [
              "'PWSKILLS IS BEST FOR DATA ANALYST'"
            ],
            "application/vnd.google.colaboratory.intrinsic+json": {
              "type": "string"
            }
          },
          "metadata": {},
          "execution_count": 31
        }
      ]
    },
    {
      "cell_type": "code",
      "source": [
        "s.lower()"
      ],
      "metadata": {
        "colab": {
          "base_uri": "https://localhost:8080/",
          "height": 35
        },
        "id": "ytvktu602PZ-",
        "outputId": "afaf0b17-aa4e-4e51-a27d-8e5ebd1402f0"
      },
      "execution_count": null,
      "outputs": [
        {
          "output_type": "execute_result",
          "data": {
            "text/plain": [
              "'pwskills is best for data analyst'"
            ],
            "application/vnd.google.colaboratory.intrinsic+json": {
              "type": "string"
            }
          },
          "metadata": {},
          "execution_count": 32
        }
      ]
    },
    {
      "cell_type": "code",
      "source": [
        "#  9.Write a code to count the number of words in a string\n",
        "\n",
        "def count_words(input_string):\n",
        "    # Split the string into words based on whitespace\n",
        "    words = input_string.split()\n",
        "    # Count the number of words\n",
        "    num_words = len(words)\n",
        "    return num_words\n",
        "\n",
        "# Test the function\n",
        "input_string = \"Hello world! This is a test string.\"\n",
        "word_count = count_words(input_string)\n",
        "print(\"Number of words:\", word_count)\n"
      ],
      "metadata": {
        "colab": {
          "base_uri": "https://localhost:8080/"
        },
        "id": "SU3-i5m32S--",
        "outputId": "f3a0fffb-2c67-43c0-a875-0c1dd50fe40b"
      },
      "execution_count": null,
      "outputs": [
        {
          "output_type": "stream",
          "name": "stdout",
          "text": [
            "Number of words: 7\n"
          ]
        }
      ]
    },
    {
      "cell_type": "code",
      "source": [
        "# 10 Write a code to concatenate two strings without using the + operator\n",
        "\n",
        "str1 = \"Hello\"\n",
        "str2 = \"World\"\n",
        "\n",
        "print(\"The first string is\")\n",
        "print(str1)\n",
        "\n",
        "print(\"The second string is\")\n",
        "print(str2)\n",
        "\n",
        "concat = \" \".join([str1,str2])\n",
        "print(\"The concatenated string is\")\n",
        "print(concat)"
      ],
      "metadata": {
        "colab": {
          "base_uri": "https://localhost:8080/"
        },
        "id": "FuWrfY-a2dzU",
        "outputId": "8f1515ed-28de-4999-b371-4269d8607005"
      },
      "execution_count": null,
      "outputs": [
        {
          "output_type": "stream",
          "name": "stdout",
          "text": [
            "The first string is\n",
            "Hello\n",
            "The second string is\n",
            "World\n",
            "The concatenated string is\n",
            "Hello World\n"
          ]
        }
      ]
    },
    {
      "cell_type": "code",
      "source": [
        "# 11 Write a code to remove all occurrences of a specific element from a list.\n",
        "\n",
        "\n",
        "def remove_element(lst, element):\n",
        "    return [x for x in lst if x != element]\n",
        "\n",
        "# Test the function\n",
        "input_list = [1, 2, 3, 4, 2, 5, 2]\n",
        "element_to_remove = 2\n",
        "filtered_list = remove_element(input_list, element_to_remove)\n",
        "print(\"Original list:\", input_list)\n",
        "print(\"Element to remove:\", element_to_remove)\n",
        "print(\"List after removing all occurrences of the element:\", filtered_list)\n"
      ],
      "metadata": {
        "colab": {
          "base_uri": "https://localhost:8080/"
        },
        "id": "IZBSZr0B2eeA",
        "outputId": "3e072b99-0c1a-48d0-e292-423f9f35ccc0"
      },
      "execution_count": null,
      "outputs": [
        {
          "output_type": "stream",
          "name": "stdout",
          "text": [
            "Original list: [1, 2, 3, 4, 2, 5, 2]\n",
            "Element to remove: 2\n",
            "List after removing all occurrences of the element: [1, 3, 4, 5]\n"
          ]
        }
      ]
    },
    {
      "cell_type": "code",
      "source": [
        " # 12. Implement a code to find the second largest number in a given list of integers ?\n",
        "\n",
        "list1 = (10, 20, 4, 45, 99)\n",
        "list2 = list(set(list1))\n",
        "list2.sort()\n",
        "\n",
        "\n",
        "print(\"Second largest element is:\", list2[-2])"
      ],
      "metadata": {
        "id": "V4RxMlu42hSN",
        "colab": {
          "base_uri": "https://localhost:8080/"
        },
        "outputId": "fb6e4a5e-45cb-4d2e-debf-5927cbc7af82"
      },
      "execution_count": null,
      "outputs": [
        {
          "output_type": "stream",
          "name": "stdout",
          "text": [
            "Second largest element is: 45\n"
          ]
        }
      ]
    },
    {
      "cell_type": "code",
      "source": [
        "# 13 Create a code to count the occurrences of each element in a list and return a dictionary with elements as keys and their counts as values.\n",
        "\n",
        "def count_elements(lst):\n",
        "    count_dict = {}\n",
        "    for element in lst:\n",
        "        if element in count_dict:\n",
        "            count_dict[element] += 1\n",
        "        else:\n",
        "            count_dict[element] = 1\n",
        "    return count_dict\n",
        "\n",
        "\n",
        "my_list = [1, 2, 3, 1, 2, 1, 3, 4, 5, 4, 2, 2]\n",
        "result = count_elements(my_list)\n",
        "print(result)\n",
        "\n"
      ],
      "metadata": {
        "colab": {
          "base_uri": "https://localhost:8080/"
        },
        "id": "lyjy1p1ilSIR",
        "outputId": "df3f9e5a-002e-4239-94ac-9b3f5216aa2a"
      },
      "execution_count": null,
      "outputs": [
        {
          "output_type": "stream",
          "name": "stdout",
          "text": [
            "{1: 3, 2: 4, 3: 2, 4: 2, 5: 1}\n"
          ]
        }
      ]
    },
    {
      "cell_type": "code",
      "source": [
        "# 14 Write a code to reverse a list in-place without using any built-in reverse functions ?\n",
        "\n",
        "#Print the List\n",
        "\n",
        "original_list = [1, 2, 3, 4, 5]\n",
        "reversed_list = []\n",
        "\n",
        "for item in reversed(original_list):\n",
        "    reversed_list.append(item)\n",
        "\n",
        "print(reversed_list)"
      ],
      "metadata": {
        "colab": {
          "base_uri": "https://localhost:8080/"
        },
        "id": "gdSR0i45p_Bb",
        "outputId": "ecb76a6b-88a5-4561-e5da-a7fd27614c1a"
      },
      "execution_count": null,
      "outputs": [
        {
          "output_type": "stream",
          "name": "stdout",
          "text": [
            "[5, 4, 3, 2, 1]\n"
          ]
        }
      ]
    },
    {
      "cell_type": "code",
      "source": [
        "# 15 Implement a code to find and remove duplicates from a list while preserving the original order of elements ?\n",
        "\n",
        "\n",
        "\n",
        "# initializing list\n",
        "test_list = [1, 5, 3, 6, 3, 5, 6, 1]\n",
        "print (\"The original list is : \"+ str(test_list))\n",
        "\n",
        "# using list comprehension + enumerate() to remove duplicated from list\n",
        "res = [i for n, i in enumerate(test_list) if i not in test_list[:n]]\n",
        "\n",
        "# printing list after removal\n",
        "print (\"The list after removing duplicates : \"+ str(res))\n"
      ],
      "metadata": {
        "colab": {
          "base_uri": "https://localhost:8080/"
        },
        "id": "M46sRGFztsmd",
        "outputId": "bd07d62f-e633-4c05-9944-18e02965370e"
      },
      "execution_count": null,
      "outputs": [
        {
          "output_type": "stream",
          "name": "stdout",
          "text": [
            "The original list is : [1, 5, 3, 6, 3, 5, 6, 1]\n",
            "The list after removing duplicates : [1, 5, 3, 6]\n"
          ]
        }
      ]
    },
    {
      "cell_type": "code",
      "source": [
        "# 16 Create a code to check if a given list is sorted (either in ascending or descending order) or not ?\n",
        "\n",
        "\n",
        "# Python3 code to demonstrate\n",
        "# to check if list is sorted\n",
        "# using naive method\n",
        "\n",
        "# initializing list\n",
        "test_list = [1, 4, 5, 8, 10]\n",
        "\n",
        "# printing original list\n",
        "print (\"Original list : \" + str(test_list))\n",
        "\n",
        "# using naive method to\n",
        "# check sorted list\n",
        "flag = 0\n",
        "i = 1\n",
        "while i < len(test_list):\n",
        "    if(test_list[i] < test_list[i - 1]):\n",
        "        flag = 1\n",
        "    i += 1\n",
        "\n",
        "# printing result\n",
        "if (not flag) :\n",
        "    print (\"Yes, List is sorted.\")\n",
        "else :\n",
        "    print (\"No, List is not sorted.\")\n"
      ],
      "metadata": {
        "colab": {
          "base_uri": "https://localhost:8080/"
        },
        "id": "BirUsacf6mBO",
        "outputId": "7c5f25e8-4cc7-4429-a46c-afa3fb6c1d97"
      },
      "execution_count": null,
      "outputs": [
        {
          "output_type": "stream",
          "name": "stdout",
          "text": [
            "Original list : [1, 4, 5, 8, 10]\n",
            "Yes, List is sorted.\n"
          ]
        }
      ]
    },
    {
      "cell_type": "code",
      "source": [
        "# 17 Write a code to merge two sorted lists into a single sorted list ?\n",
        "\n",
        "\n",
        "def merge_sorted_lists(list1, list2):\n",
        "    return sorted(list1 + list2)\n",
        "\n",
        "# Test the function\n",
        "list1 = [1, 3, 5, 7, 9]\n",
        "list2 = [2, 4, 6, 8, 10]\n",
        "merged_list = merge_sorted_lists(list1, list2)\n",
        "print(\"Merged and sorted list:\", merged_list)"
      ],
      "metadata": {
        "id": "j6Hb-dfz7LRC",
        "colab": {
          "base_uri": "https://localhost:8080/"
        },
        "outputId": "776f8f3f-f0ae-4dbf-82cf-9e9fac7d0884"
      },
      "execution_count": null,
      "outputs": [
        {
          "output_type": "stream",
          "name": "stdout",
          "text": [
            "Merged and sorted list: [1, 2, 3, 4, 5, 6, 7, 8, 9, 10]\n"
          ]
        }
      ]
    },
    {
      "cell_type": "code",
      "source": [
        "# 18 Implement a code to find the intersection of two given lists ?\n",
        "\n",
        "\n",
        "def intersection_list(list1, list2):\n",
        " list3 = [value for value in list1 if value in list2]\n",
        " return list3\n",
        "\n",
        "list1 = [40, 90, 11, 58, 31, 66, 28, 54, 79]\n",
        "list2 = [58, 90, 54, 31, 45, 11, 66, 28, 26]\n",
        "\n",
        "print(intersection_list(list1, list2))"
      ],
      "metadata": {
        "colab": {
          "base_uri": "https://localhost:8080/"
        },
        "id": "2aQvXtpM9s36",
        "outputId": "fb5ec9cf-d96f-41bf-c95b-8a6b2e9660a1"
      },
      "execution_count": null,
      "outputs": [
        {
          "output_type": "stream",
          "name": "stdout",
          "text": [
            "[90, 11, 58, 31, 66, 28, 54]\n"
          ]
        }
      ]
    },
    {
      "cell_type": "code",
      "source": [
        "# 19 Create a code to find the union of two lists without duplicates ?\n",
        "\n",
        "\n",
        "\n",
        "first = [1, 2, 3, 4]\n",
        "second = [3, 2, 5, 6, 7]\n",
        "third = list(set(first) | set(second))      # '|' is union\n",
        "third\n",
        "\n"
      ],
      "metadata": {
        "id": "DZuoR4Hs9upp",
        "colab": {
          "base_uri": "https://localhost:8080/"
        },
        "outputId": "1b62551d-9327-41d7-9fea-c18089a7e2aa"
      },
      "execution_count": null,
      "outputs": [
        {
          "output_type": "execute_result",
          "data": {
            "text/plain": [
              "[1, 2, 3, 4, 5, 6, 7]"
            ]
          },
          "metadata": {},
          "execution_count": 6
        }
      ]
    },
    {
      "cell_type": "code",
      "source": [
        "#  20 Write a code to shuffle a given list randomly without using any built-in shuffle functions?\n",
        "\n",
        "\n",
        "\n",
        "import random\n",
        "\n",
        "my_list = [1, 2, 3, 4, 5]\n",
        "\n",
        "shuffled_list = sorted(my_list, key=lambda x: random.random())\n",
        "\n",
        "print(\"Original list:\", my_list)\n",
        "print(\"Shuffled list:\", shuffled_list)\n"
      ],
      "metadata": {
        "colab": {
          "base_uri": "https://localhost:8080/"
        },
        "id": "PQJhS9CAprJe",
        "outputId": "cd340794-37c0-4fd0-9542-761afd504cb9"
      },
      "execution_count": null,
      "outputs": [
        {
          "output_type": "stream",
          "name": "stdout",
          "text": [
            "Original list: [1, 2, 3, 4, 5]\n",
            "Shuffled list: [3, 4, 1, 2, 5]\n"
          ]
        }
      ]
    },
    {
      "cell_type": "code",
      "source": [
        "# 21 Write a code that takes two tuples as input and returns a new tuple containing elements that are common to both input tuples\n",
        "\n",
        "def commonElements(t1 ,t2):\n",
        "    return tuple(set(t1) & set(t2))\n",
        "\n",
        "commonElements((1, 2, 3), (2, 5, 1))"
      ],
      "metadata": {
        "colab": {
          "base_uri": "https://localhost:8080/"
        },
        "id": "ilbmPxyCr2m0",
        "outputId": "43b5b6ef-9580-44f2-edbc-934b71df6f38"
      },
      "execution_count": null,
      "outputs": [
        {
          "output_type": "execute_result",
          "data": {
            "text/plain": [
              "(1, 2)"
            ]
          },
          "metadata": {},
          "execution_count": 15
        }
      ]
    },
    {
      "cell_type": "code",
      "source": [
        "#  22 Create a code that prompts the user to enter two sets of integers separated by commas. Then, print the intersection of these two sets\n",
        "\n",
        "def get_integer_set_from_input():\n",
        "    input_str = input(\"Enter a set of integers separated by commas: \")\n",
        "    integer_list = [int(x) for x in input_str.split(\",\")]\n",
        "    return set(integer_list)\n",
        "\n",
        "# Prompt the user to enter two sets of integers\n",
        "print(\"Enter the first set:\")\n",
        "set1 = get_integer_set_from_input()\n",
        "print(\"Enter the second set:\")\n",
        "set2 = get_integer_set_from_input()\n",
        "\n",
        "# Calculate and print the intersection of the two sets\n",
        "intersection = set1.intersection(set2)\n",
        "print(\"Intersection of the two sets:\", intersection)"
      ],
      "metadata": {
        "id": "ZbALMaaH7irS",
        "colab": {
          "base_uri": "https://localhost:8080/"
        },
        "outputId": "d00ecd59-8a00-4bf6-c409-a21dc43a9173"
      },
      "execution_count": null,
      "outputs": [
        {
          "output_type": "stream",
          "name": "stdout",
          "text": [
            "Enter the first set:\n",
            "Enter a set of integers separated by commas: 1,2,3,4,5\n",
            "Enter the second set:\n",
            "Enter a set of integers separated by commas: 8,10,12,15,4,2,1\n",
            "Intersection of the two sets: {1, 2, 4}\n"
          ]
        }
      ]
    },
    {
      "cell_type": "code",
      "source": [
        "# 23 Write a code to concatenate two tuples. The function should take two tuples as input and return a new tuple containing elements from both input tuples.\n",
        "\n",
        "def concatenate_tuples(tuple1, tuple2):\n",
        "    return tuple1 + tuple2\n",
        "\n",
        "# Test the function\n",
        "tuple1 = (1, 2, 3)\n",
        "tuple2 = ('a', 'b', 'c')\n",
        "concatenated_tuple = concatenate_tuples(tuple1, tuple2)\n",
        "print(\"Concatenated tuple:\", concatenated_tuple)"
      ],
      "metadata": {
        "colab": {
          "base_uri": "https://localhost:8080/"
        },
        "id": "XxGg9ROLBKtz",
        "outputId": "e8994212-6db3-492c-9fd1-6652dd2f7e8f"
      },
      "execution_count": null,
      "outputs": [
        {
          "output_type": "stream",
          "name": "stdout",
          "text": [
            "Concatenated tuple: (1, 2, 3, 'a', 'b', 'c')\n"
          ]
        }
      ]
    },
    {
      "cell_type": "code",
      "source": [
        "#  24 Develop a code that prompts the user to input two sets of strings. Then, print the elements that are present 25,4,25,87,8,1,2,6,7in the first set but not in the second set\n",
        "\n",
        "def main():\n",
        "    # Prompting the user to input two sets of strings\n",
        "    set1 = set(input(\"Enter elements of the first set (comma-separated): \").split(\",\"))\n",
        "    set2 = set(input(\"Enter elements of the second set (comma-separated): \").split(\",\"))\n",
        "\n",
        "    # Printing elements that are present in the first set but not in the second set\n",
        "    difference_set = set1 - set2\n",
        "    print(\"Elements present in the first set but not in the second set:\", difference_set)\n",
        "\n",
        "if __name__ == \"__main__\":\n",
        "    main()"
      ],
      "metadata": {
        "colab": {
          "base_uri": "https://localhost:8080/"
        },
        "id": "6oHf6U_XD83-",
        "outputId": "c2384c37-ff04-49bf-d08e-f3ab971c48fa"
      },
      "execution_count": null,
      "outputs": [
        {
          "output_type": "stream",
          "name": "stdout",
          "text": [
            "Enter elements of the first set (comma-separated): 4,5,9,4,10,1,2,3\n",
            "Enter elements of the second set (comma-separated): 25,4,25,87,8,1,2,6,7\n",
            "Elements present in the first set but not in the second set: {'10', '5', '9', '3'}\n"
          ]
        }
      ]
    },
    {
      "cell_type": "code",
      "source": [
        "# 25  Create a code that takes a tuple and two integers as input. The function should return a new tuple containing elements from the original\n",
        "  # tuple within the specified range of indices.\n",
        "\n",
        "def slice_tuple(original_tuple, start_index, end_index):\n",
        "    return original_tuple[start_index:end_index+1]\n",
        "\n",
        "original_tuple = tuple(input(\"Enter elements of the tuple (comma-separated): \").split(\",\"))\n",
        "start_index = int(input(\"Enter the start index: \"))\n",
        "end_index = int(input(\"Enter the end index: \"))\n",
        "\n",
        "new_tuple = slice_tuple(original_tuple, start_index, end_index)\n",
        "print(\"New tuple:\", new_tuple)\n"
      ],
      "metadata": {
        "colab": {
          "base_uri": "https://localhost:8080/"
        },
        "id": "uhjTjUc3ExGe",
        "outputId": "111a1e67-dad8-4026-e82f-b3f59391d221"
      },
      "execution_count": null,
      "outputs": [
        {
          "output_type": "stream",
          "name": "stdout",
          "text": [
            "Enter elements of the tuple (comma-separated): 1,2,3,4,5,6,7,8,9\n",
            "Enter the start index: 2\n",
            "Enter the end index: 5\n",
            "New tuple: ('3', '4', '5', '6')\n"
          ]
        }
      ]
    },
    {
      "cell_type": "code",
      "source": [
        "# 26 Write a code that prompts the user to input two sets of characters. Then, print the union of these two sets&\n",
        "\n",
        "def main():\n",
        "    # Prompting the user to input two sets of characters\n",
        "    set1 = set(input(\"Enter characters for the first set: \"))\n",
        "    set2 = set(input(\"Enter characters for the second set: \"))\n",
        "\n",
        "    # Printing the union of the two sets\n",
        "    union_set = set1.union(set2)\n",
        "    print(\"Union of the two sets:\", union_set)\n",
        "\n",
        "if __name__ == \"__main__\":\n",
        "    main()"
      ],
      "metadata": {
        "colab": {
          "base_uri": "https://localhost:8080/"
        },
        "id": "ajhYaeilI6L7",
        "outputId": "a7afb046-d60c-43e7-9a62-05e169e162fa"
      },
      "execution_count": null,
      "outputs": [
        {
          "output_type": "stream",
          "name": "stdout",
          "text": [
            "Enter characters for the first set: abc\n",
            "Enter characters for the second set: def\n",
            "Union of the two sets: {'a', 'e', 'f', 'd', 'c', 'b'}\n"
          ]
        }
      ]
    },
    {
      "cell_type": "code",
      "source": [
        "# 27 Develop a code that takes a tuple of integers as input. The function should return the maximum and\n",
        "  # minimum values from the tuple using tuple unpacking&\n",
        "\n",
        "def find_max_min(input_tuple):\n",
        "    # Using tuple unpacking to find the maximum and minimum values\n",
        "    max_val = max(input_tuple)\n",
        "    min_val = min(input_tuple)\n",
        "    return max_val, min_val\n",
        "\n",
        "def main():\n",
        "    # Taking input from the user for a tuple of integers\n",
        "    input_tuple = tuple(map(int, input(\"Enter integers separated by commas: \").split(\",\")))\n",
        "\n",
        "    # Calling the function to find the maximum and minimum values\n",
        "    max_val, min_val = find_max_min(input_tuple)\n",
        "\n",
        "    # Printing the maximum and minimum values\n",
        "    print(\"Maximum value:\", max_val)\n",
        "    print(\"Minimum value:\", min_val)\n",
        "\n",
        "if __name__ == \"__main__\":\n",
        "    main()"
      ],
      "metadata": {
        "colab": {
          "base_uri": "https://localhost:8080/"
        },
        "id": "HAe8T0GUKGFk",
        "outputId": "dd6eb69f-50f1-4acf-d0f5-189d05285129"
      },
      "execution_count": null,
      "outputs": [
        {
          "output_type": "stream",
          "name": "stdout",
          "text": [
            "Enter integers separated by commas: 10,11,12,13,14\n",
            "Maximum value: 14\n",
            "Minimum value: 10\n"
          ]
        }
      ]
    },
    {
      "cell_type": "code",
      "source": [
        "#  28 Create a code that defines two sets of integers. Then, print the union, intersection, and difference of these two sets\n",
        "\n",
        "set1 = {1, 2, 3, 4, 5}\n",
        "set2 = {4, 5, 6, 7, 8}\n",
        "\n",
        "print(\"Union:\", set1 | set2)\n",
        "print(\"Intersection:\", set1 & set2)\n",
        "print(\"Difference (set1 - set2):\", set1 - set2)\n",
        "print(\"Difference (set2 - set1):\", set2 - set1)"
      ],
      "metadata": {
        "colab": {
          "base_uri": "https://localhost:8080/"
        },
        "id": "57AWspszK63h",
        "outputId": "5d9a7e28-be78-4edf-b742-636a26a49ae7"
      },
      "execution_count": null,
      "outputs": [
        {
          "output_type": "stream",
          "name": "stdout",
          "text": [
            "Union: {1, 2, 3, 4, 5, 6, 7, 8}\n",
            "Intersection: {4, 5}\n",
            "Difference (set1 - set2): {1, 2, 3}\n",
            "Difference (set2 - set1): {8, 6, 7}\n"
          ]
        }
      ]
    },
    {
      "cell_type": "code",
      "source": [
        "# 29 Write a code that takes a tuple and an element as input. The function should return the count of occurrences of the given element in the tuple.\n",
        "\n",
        "input_tuple = tuple(input(\"Enter elements of the tuple (comma-separated): \").split(\",\"))\n",
        "element = input(\"Enter the element to count: \")\n",
        "print(\"Count of occurrences:\", input_tuple.count(element))"
      ],
      "metadata": {
        "colab": {
          "base_uri": "https://localhost:8080/"
        },
        "id": "KbE1sOclLaYX",
        "outputId": "c1eed65a-f754-4c6e-b5cd-e537b0d5ab00"
      },
      "execution_count": null,
      "outputs": [
        {
          "output_type": "stream",
          "name": "stdout",
          "text": [
            "Enter elements of the tuple (comma-separated): 22,55,88,22,25,36,36,4,4,4,4,5\n",
            "Enter the element to count: 4\n",
            "Count of occurrences: 4\n"
          ]
        }
      ]
    },
    {
      "cell_type": "code",
      "source": [
        "# 30 develop a code that prompts the user to input two sets of strings. Then, print the symmetric difference of these two sets\n",
        "\n",
        "\n",
        "def main():\n",
        "    # Prompting the user to input two sets of strings\n",
        "    set1 = set(input(\"Enter elements of the first set (comma-separated): \").split(\",\"))\n",
        "    set2 = set(input(\"Enter elements of the second set (comma-separated): \").split(\",\"))\n",
        "\n",
        "    # Printing the symmetric difference of the two sets\n",
        "    symmetric_difference = set1.symmetric_difference(set2)\n",
        "    print(\"Symmetric difference of the two sets:\", symmetric_difference)\n",
        "\n",
        "if __name__ == \"__main__\":\n",
        "    main()\n",
        "\n"
      ],
      "metadata": {
        "colab": {
          "base_uri": "https://localhost:8080/"
        },
        "id": "VMKbxG9pL6OV",
        "outputId": "308abe54-11e0-407e-a6d7-4b14d2d06f8c"
      },
      "execution_count": null,
      "outputs": [
        {
          "output_type": "stream",
          "name": "stdout",
          "text": [
            "Enter elements of the first set (comma-separated): abs,abc.ade,asd\n",
            "Enter elements of the second set (comma-separated): qaz,wsx,edc,rfv,tgb\n",
            "Symmetric difference of the two sets: {'tgb', 'wsx', 'asd', 'edc', 'qaz', 'abs', 'rfv', 'abc.ade'}\n"
          ]
        }
      ]
    },
    {
      "cell_type": "code",
      "source": [
        "# 31 write a code that takes a list of words as input and returns a dictionary where the keys are unique words and the values are the frequencies of those words in the input list\n",
        "\n",
        "words_list = input(\"Enter a list of words (space-separated): \").split()\n",
        "frequencies = {word: words_list.count(word) for word in set(words_list)}\n",
        "print(\"Word frequencies:\", frequencies)"
      ],
      "metadata": {
        "colab": {
          "base_uri": "https://localhost:8080/"
        },
        "id": "9SzDxglKMdg7",
        "outputId": "4aea6e1d-2ade-40eb-b8e7-67ac34560d3b"
      },
      "execution_count": null,
      "outputs": [
        {
          "output_type": "stream",
          "name": "stdout",
          "text": [
            "Enter a list of words (space-separated): starwberry, starawberry, banana, banana,apple\n",
            "Word frequencies: {'starawberry,': 1, 'banana,': 1, 'banana,apple': 1, 'starwberry,': 1}\n"
          ]
        }
      ]
    },
    {
      "cell_type": "code",
      "source": [
        "# 32 Write a code that takes two dictionaries as input and merges them into a single dictionary. If there are\n",
        " # common keys, the values should be added together\n",
        "\n",
        "def merge_dicts(dict1, dict2):\n",
        "    merged_dict = dict(dict1)\n",
        "    for key, value in dict2.items():\n",
        "        if key in merged_dict:\n",
        "            merged_dict[key] += value\n",
        "        else:\n",
        "            merged_dict[key] = value\n",
        "    return merged_dict\n",
        "\n",
        "# Example dictionaries\n",
        "dict1 = {'a': 10, 'b': 20, 'c': 30}\n",
        "dict2 = {'b': 30, 'c': 40, 'd': 50}\n",
        "\n",
        "# Merging dictionaries\n",
        "merged_dict = merge_dicts(dict1, dict2)\n",
        "print(\"Merged Dictionary:\", merged_dict)\n",
        "\n"
      ],
      "metadata": {
        "colab": {
          "base_uri": "https://localhost:8080/"
        },
        "id": "bYPJF6fVNW34",
        "outputId": "f7464057-160e-4288-9b97-a22fd111cb9e"
      },
      "execution_count": null,
      "outputs": [
        {
          "output_type": "stream",
          "name": "stdout",
          "text": [
            "Merged Dictionary: {'a': 10, 'b': 50, 'c': 70, 'd': 50}\n"
          ]
        }
      ]
    },
    {
      "cell_type": "code",
      "source": [
        "# 33 rite a code to access a value in a nested dictionary. The function should take the dictionary and a list of\n",
        "# keys as input, and return the corresponding value. If any of the keys do not exist in the dictionary, the\n",
        "# function should return None.\n",
        "\n",
        "def access_nested_dict(dictionary, keys):\n",
        "    try:\n",
        "        for key in keys:\n",
        "            dictionary = dictionary[key]\n",
        "        return dictionary\n",
        "    except (KeyError, TypeError):\n",
        "        return None\n",
        "\n",
        "# Example nested dictionary\n",
        "nested_dict = {'a': {'b': {'c': 10, 'd': 20}, 'e': {'f': 30, 'g': 40}}}\n",
        "\n",
        "# Example list of keys\n",
        "keys_to_access = ['a', 'b', 'c']\n",
        "\n",
        "# Accessing the nested value\n",
        "result = access_nested_dict(nested_dict, keys_to_access)\n",
        "print(\"Value:\", result)"
      ],
      "metadata": {
        "colab": {
          "base_uri": "https://localhost:8080/"
        },
        "id": "WMAyWafSQEut",
        "outputId": "62ddbcaa-ad83-49f7-fb00-75518864cbf2"
      },
      "execution_count": null,
      "outputs": [
        {
          "output_type": "stream",
          "name": "stdout",
          "text": [
            "Value: 10\n"
          ]
        }
      ]
    },
    {
      "cell_type": "code",
      "source": [
        "# 34 Write a code that takes a dictionary as input and returns a sorted version of it based on the values. You\n",
        " # can choose whether to sort in ascending or descending order.\n",
        "\n",
        "\n",
        "def sort_dict_by_values(dictionary, reverse=True):\n",
        "    return dict(sorted(dictionary.items(), key=lambda item: item[1], reverse=reverse))\n",
        "\n",
        "# Example dictionary\n",
        "my_dict = {'a': 10, 'b': 5, 'c': 30, 'd': 20}\n",
        "\n",
        "# Sorting the dictionary by values in descending order\n",
        "sorted_dict = sort_dict_by_values(my_dict)\n",
        "print(\"Sorted Dictionary (Descending):\", sorted_dict)"
      ],
      "metadata": {
        "colab": {
          "base_uri": "https://localhost:8080/"
        },
        "id": "6naNIGivQq0a",
        "outputId": "63f0363d-0156-43d0-b910-d7ee13c4588d"
      },
      "execution_count": null,
      "outputs": [
        {
          "output_type": "stream",
          "name": "stdout",
          "text": [
            "Sorted Dictionary (Descending): {'c': 30, 'd': 20, 'a': 10, 'b': 5}\n"
          ]
        }
      ]
    },
    {
      "cell_type": "code",
      "source": [
        "# 35  Write a code that inverts a dictionary, swapping keys and values. Ensure that the inverted dictionary\n",
        "# correctly handles cases where multiple keys have the same value by storing the keys as a list in the\n",
        "# inverted dictionary\n",
        "\n",
        "\n",
        "def invert_dict(dictionary):\n",
        "    inverted_dict = {}\n",
        "    for key, value in dictionary.items():\n",
        "        if value in inverted_dict:\n",
        "            inverted_dict[value].append(key)\n",
        "        else:\n",
        "            inverted_dict[value] = [key]\n",
        "    return inverted_dict\n",
        "\n",
        "# Example dictionary\n",
        "my_dict = {'a': 1, 'b': 2, 'c': 1, 'd': 3}\n",
        "\n",
        "# Inverting the dictionary\n",
        "inverted_dict = invert_dict(my_dict)\n",
        "print(\"Inverted Dictionary:\", inverted_dict)"
      ],
      "metadata": {
        "colab": {
          "base_uri": "https://localhost:8080/"
        },
        "id": "pkDCWczBQ1lU",
        "outputId": "950da5b2-68a5-42a9-ef28-cce8a39b8768"
      },
      "execution_count": null,
      "outputs": [
        {
          "output_type": "stream",
          "name": "stdout",
          "text": [
            "Inverted Dictionary: {1: ['a', 'c'], 2: ['b'], 3: ['d']}\n"
          ]
        }
      ]
    },
    {
      "cell_type": "code",
      "source": [],
      "metadata": {
        "id": "cnO3p6mkRBX0"
      },
      "execution_count": null,
      "outputs": []
    }
  ]
}